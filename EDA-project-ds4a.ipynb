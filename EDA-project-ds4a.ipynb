{
  "nbformat": 4,
  "nbformat_minor": 0,
  "metadata": {
    "colab": {
      "name": "projectds4a.ipynb",
      "provenance": [],
      "collapsed_sections": []
    },
    "kernelspec": {
      "name": "python3",
      "display_name": "Python 3"
    }
  },
  "cells": [
    {
      "cell_type": "code",
      "metadata": {
        "id": "BlWCKKle6jYx",
        "outputId": "b674da28-0135-4ed9-b21e-2d0d568b8491",
        "colab": {
          "base_uri": "https://localhost:8080/",
          "height": 1000
        }
      },
      "source": [
        "%%time \n",
        "!apt update --quiet\n",
        "!apt upgrade --quiet\n",
        "# GDAL Important library for many geopython libraries\n",
        "!apt install gdal-bin python-gdal python3-gdal --quiet\n",
        "# Install rtree - Geopandas requirment\n",
        "!apt install python3-rtree --quiet\n",
        "# Install Geopandas\n",
        "#!pip install git+git://github.com/geopandas/geopandas.git --quiet\n",
        "# Install descartes - Geopandas requirment\n",
        "!pip install descartes --quiet\n",
        "# Install Folium for Geographic data visualization\n",
        "!pip install folium --quiet\n",
        "# Install Pysal\n",
        "!pip install pysal --quiet\n",
        "# Install splot --> pysal\n",
        "!pip install splot --quiet\n",
        "# Install mapclassify\n",
        "!pip install mapclassify --quiet"
      ],
      "execution_count": 6,
      "outputs": [
        {
          "output_type": "stream",
          "text": [
            "Ign:1 https://developer.download.nvidia.com/compute/cuda/repos/ubuntu1804/x86_64  InRelease\n",
            "Ign:2 https://developer.download.nvidia.com/compute/machine-learning/repos/ubuntu1804/x86_64  InRelease\n",
            "Get:3 http://security.ubuntu.com/ubuntu bionic-security InRelease [88.7 kB]\n",
            "Hit:4 http://archive.ubuntu.com/ubuntu bionic InRelease\n",
            "Get:5 http://ppa.launchpad.net/c2d4u.team/c2d4u4.0+/ubuntu bionic InRelease [15.9 kB]\n",
            "Hit:6 https://developer.download.nvidia.com/compute/cuda/repos/ubuntu1804/x86_64  Release\n",
            "Hit:7 https://developer.download.nvidia.com/compute/machine-learning/repos/ubuntu1804/x86_64  Release\n",
            "Get:8 https://cloud.r-project.org/bin/linux/ubuntu bionic-cran40/ InRelease [3,626 B]\n",
            "Get:9 http://archive.ubuntu.com/ubuntu bionic-updates InRelease [88.7 kB]\n",
            "Hit:10 http://ppa.launchpad.net/graphics-drivers/ppa/ubuntu bionic InRelease\n",
            "Get:11 http://archive.ubuntu.com/ubuntu bionic-backports InRelease [74.6 kB]\n",
            "Get:14 http://ppa.launchpad.net/c2d4u.team/c2d4u4.0+/ubuntu bionic/main Sources [1,673 kB]\n",
            "Get:15 http://security.ubuntu.com/ubuntu bionic-security/universe amd64 Packages [1,338 kB]\n",
            "Get:16 http://archive.ubuntu.com/ubuntu bionic-updates/main amd64 Packages [2,110 kB]\n",
            "Get:17 http://ppa.launchpad.net/c2d4u.team/c2d4u4.0+/ubuntu bionic/main amd64 Packages [856 kB]\n",
            "Get:18 http://archive.ubuntu.com/ubuntu bionic-updates/universe amd64 Packages [2,100 kB]\n",
            "Fetched 8,349 kB in 3s (3,105 kB/s)\n",
            "Reading package lists...\n",
            "Building dependency tree...\n",
            "Reading state information...\n",
            "22 packages can be upgraded. Run 'apt list --upgradable' to see them.\n",
            "Reading package lists...\n",
            "Building dependency tree...\n",
            "Reading state information...\n",
            "Calculating upgrade...\n",
            "The following packages have been kept back:\n",
            "  libcublas-dev libcublas10 libcudnn7 libcudnn7-dev libnccl-dev libnccl2\n",
            "The following packages will be upgraded:\n",
            "  base-files bsdutils cuda-compat-10-1 fdisk gnupg2 libblkid1 libfdisk1\n",
            "  libmount1 libpam-modules libpam-modules-bin libpam-runtime libpam0g\n",
            "  libsmartcols1 linux-libc-dev mount util-linux\n",
            "16 upgraded, 0 newly installed, 0 to remove and 6 not upgraded.\n",
            "Need to get 8,367 kB of archives.\n",
            "After this operation, 7,168 B of additional disk space will be used.\n",
            "Get:1 https://developer.download.nvidia.com/compute/cuda/repos/ubuntu1804/x86_64  cuda-compat-10-1 418.165.02-1 [5,249 kB]\n",
            "Get:2 http://archive.ubuntu.com/ubuntu bionic-updates/main amd64 base-files amd64 10.1ubuntu2.10 [60.4 kB]\n",
            "Get:3 http://archive.ubuntu.com/ubuntu bionic-updates/main amd64 bsdutils amd64 1:2.31.1-0.4ubuntu3.7 [60.2 kB]\n",
            "Get:4 http://archive.ubuntu.com/ubuntu bionic-updates/main amd64 libblkid1 amd64 2.31.1-0.4ubuntu3.7 [124 kB]\n",
            "Get:5 http://archive.ubuntu.com/ubuntu bionic-updates/main amd64 libfdisk1 amd64 2.31.1-0.4ubuntu3.7 [164 kB]\n",
            "Get:6 http://archive.ubuntu.com/ubuntu bionic-updates/main amd64 libmount1 amd64 2.31.1-0.4ubuntu3.7 [136 kB]\n",
            "Get:7 http://archive.ubuntu.com/ubuntu bionic-updates/main amd64 libsmartcols1 amd64 2.31.1-0.4ubuntu3.7 [83.8 kB]\n",
            "Get:8 http://archive.ubuntu.com/ubuntu bionic-updates/main amd64 fdisk amd64 2.31.1-0.4ubuntu3.7 [108 kB]\n",
            "Get:9 http://archive.ubuntu.com/ubuntu bionic-updates/main amd64 util-linux amd64 2.31.1-0.4ubuntu3.7 [904 kB]\n",
            "Get:10 http://archive.ubuntu.com/ubuntu bionic-updates/main amd64 libpam0g amd64 1.1.8-3.6ubuntu2.18.04.2 [54.9 kB]\n",
            "Get:11 http://archive.ubuntu.com/ubuntu bionic-updates/main amd64 libpam-modules-bin amd64 1.1.8-3.6ubuntu2.18.04.2 [36.7 kB]\n",
            "Get:12 http://archive.ubuntu.com/ubuntu bionic-updates/main amd64 libpam-modules amd64 1.1.8-3.6ubuntu2.18.04.2 [242 kB]\n",
            "Get:13 http://archive.ubuntu.com/ubuntu bionic-updates/main amd64 mount amd64 2.31.1-0.4ubuntu3.7 [107 kB]\n",
            "Get:14 http://archive.ubuntu.com/ubuntu bionic-updates/main amd64 libpam-runtime all 1.1.8-3.6ubuntu2.18.04.2 [37.1 kB]\n",
            "Get:15 http://archive.ubuntu.com/ubuntu bionic-updates/main amd64 linux-libc-dev amd64 4.15.0-118.119 [994 kB]\n",
            "Get:16 http://archive.ubuntu.com/ubuntu bionic-updates/universe amd64 gnupg2 all 2.2.4-1ubuntu1.3 [5,324 B]\n",
            "Fetched 8,367 kB in 1s (8,795 kB/s)\n",
            "Preconfiguring packages ...\n",
            "(Reading database ... 144618 files and directories currently installed.)\n",
            "Preparing to unpack .../base-files_10.1ubuntu2.10_amd64.deb ...\n",
            "Unpacking base-files (10.1ubuntu2.10) over (10.1ubuntu2.9) ...\n",
            "Setting up base-files (10.1ubuntu2.10) ...\n",
            "Installing new version of config file /etc/update-motd.d/50-motd-news ...\n",
            "Removing obsolete conffile /etc/default/motd-news ...\n",
            "(Reading database ... 144617 files and directories currently installed.)\n",
            "Preparing to unpack .../bsdutils_1%3a2.31.1-0.4ubuntu3.7_amd64.deb ...\n",
            "Unpacking bsdutils (1:2.31.1-0.4ubuntu3.7) over (1:2.31.1-0.4ubuntu3.6) ...\n",
            "Setting up bsdutils (1:2.31.1-0.4ubuntu3.7) ...\n",
            "(Reading database ... 144617 files and directories currently installed.)\n",
            "Preparing to unpack .../libblkid1_2.31.1-0.4ubuntu3.7_amd64.deb ...\n",
            "Unpacking libblkid1:amd64 (2.31.1-0.4ubuntu3.7) over (2.31.1-0.4ubuntu3.6) ...\n",
            "Setting up libblkid1:amd64 (2.31.1-0.4ubuntu3.7) ...\n",
            "(Reading database ... 144617 files and directories currently installed.)\n",
            "Preparing to unpack .../libfdisk1_2.31.1-0.4ubuntu3.7_amd64.deb ...\n",
            "Unpacking libfdisk1:amd64 (2.31.1-0.4ubuntu3.7) over (2.31.1-0.4ubuntu3.6) ...\n",
            "Setting up libfdisk1:amd64 (2.31.1-0.4ubuntu3.7) ...\n",
            "(Reading database ... 144617 files and directories currently installed.)\n",
            "Preparing to unpack .../libmount1_2.31.1-0.4ubuntu3.7_amd64.deb ...\n",
            "Unpacking libmount1:amd64 (2.31.1-0.4ubuntu3.7) over (2.31.1-0.4ubuntu3.6) ...\n",
            "Setting up libmount1:amd64 (2.31.1-0.4ubuntu3.7) ...\n",
            "(Reading database ... 144617 files and directories currently installed.)\n",
            "Preparing to unpack .../libsmartcols1_2.31.1-0.4ubuntu3.7_amd64.deb ...\n",
            "Unpacking libsmartcols1:amd64 (2.31.1-0.4ubuntu3.7) over (2.31.1-0.4ubuntu3.6) ...\n",
            "Setting up libsmartcols1:amd64 (2.31.1-0.4ubuntu3.7) ...\n",
            "(Reading database ... 144617 files and directories currently installed.)\n",
            "Preparing to unpack .../fdisk_2.31.1-0.4ubuntu3.7_amd64.deb ...\n",
            "Unpacking fdisk (2.31.1-0.4ubuntu3.7) over (2.31.1-0.4ubuntu3.6) ...\n",
            "Setting up fdisk (2.31.1-0.4ubuntu3.7) ...\n",
            "(Reading database ... 144617 files and directories currently installed.)\n",
            "Preparing to unpack .../util-linux_2.31.1-0.4ubuntu3.7_amd64.deb ...\n",
            "Unpacking util-linux (2.31.1-0.4ubuntu3.7) over (2.31.1-0.4ubuntu3.6) ...\n",
            "Setting up util-linux (2.31.1-0.4ubuntu3.7) ...\n",
            "(Reading database ... 144617 files and directories currently installed.)\n",
            "Preparing to unpack .../libpam0g_1.1.8-3.6ubuntu2.18.04.2_amd64.deb ...\n",
            "Unpacking libpam0g:amd64 (1.1.8-3.6ubuntu2.18.04.2) over (1.1.8-3.6ubuntu2.18.04.1) ...\n",
            "Setting up libpam0g:amd64 (1.1.8-3.6ubuntu2.18.04.2) ...\n",
            "(Reading database ... 144617 files and directories currently installed.)\n",
            "Preparing to unpack .../libpam-modules-bin_1.1.8-3.6ubuntu2.18.04.2_amd64.deb ...\n",
            "Unpacking libpam-modules-bin (1.1.8-3.6ubuntu2.18.04.2) over (1.1.8-3.6ubuntu2.18.04.1) ...\n",
            "Setting up libpam-modules-bin (1.1.8-3.6ubuntu2.18.04.2) ...\n",
            "(Reading database ... 144617 files and directories currently installed.)\n",
            "Preparing to unpack .../libpam-modules_1.1.8-3.6ubuntu2.18.04.2_amd64.deb ...\n",
            "Unpacking libpam-modules:amd64 (1.1.8-3.6ubuntu2.18.04.2) over (1.1.8-3.6ubuntu2.18.04.1) ...\n",
            "Setting up libpam-modules:amd64 (1.1.8-3.6ubuntu2.18.04.2) ...\n",
            "(Reading database ... 144617 files and directories currently installed.)\n",
            "Preparing to unpack .../mount_2.31.1-0.4ubuntu3.7_amd64.deb ...\n",
            "Unpacking mount (2.31.1-0.4ubuntu3.7) over (2.31.1-0.4ubuntu3.6) ...\n",
            "Preparing to unpack .../libpam-runtime_1.1.8-3.6ubuntu2.18.04.2_all.deb ...\n",
            "Unpacking libpam-runtime (1.1.8-3.6ubuntu2.18.04.2) over (1.1.8-3.6ubuntu2.18.04.1) ...\n",
            "Setting up libpam-runtime (1.1.8-3.6ubuntu2.18.04.2) ...\n",
            "(Reading database ... 144617 files and directories currently installed.)\n",
            "Preparing to unpack .../cuda-compat-10-1_418.165.02-1_amd64.deb ...\n",
            "Unpacking cuda-compat-10-1 (418.165.02-1) over (418.152.00-1) ...\n",
            "Preparing to unpack .../linux-libc-dev_4.15.0-118.119_amd64.deb ...\n",
            "Unpacking linux-libc-dev:amd64 (4.15.0-118.119) over (4.15.0-117.118) ...\n",
            "Preparing to unpack .../gnupg2_2.2.4-1ubuntu1.3_all.deb ...\n",
            "Unpacking gnupg2 (2.2.4-1ubuntu1.3) over (2.2.4-1ubuntu1.2) ...\n",
            "Setting up cuda-compat-10-1 (418.165.02-1) ...\n",
            "Setting up linux-libc-dev:amd64 (4.15.0-118.119) ...\n",
            "Setting up mount (2.31.1-0.4ubuntu3.7) ...\n",
            "Setting up gnupg2 (2.2.4-1ubuntu1.3) ...\n",
            "Processing triggers for systemd (237-3ubuntu10.42) ...\n",
            "Processing triggers for man-db (2.8.3-2ubuntu0.1) ...\n",
            "Processing triggers for mime-support (3.60ubuntu1) ...\n",
            "Processing triggers for libc-bin (2.27-3ubuntu1.2) ...\n",
            "/sbin/ldconfig.real: /usr/local/lib/python3.6/dist-packages/ideep4py/lib/libmkldnn.so.0 is not a symbolic link\n",
            "\n",
            "Reading package lists...\n",
            "Building dependency tree...\n",
            "Reading state information...\n",
            "gdal-bin is already the newest version (2.2.3+dfsg-2).\n",
            "python-gdal is already the newest version (2.2.3+dfsg-2).\n",
            "python3-gdal is already the newest version (2.2.3+dfsg-2).\n",
            "0 upgraded, 0 newly installed, 0 to remove and 6 not upgraded.\n",
            "Reading package lists...\n",
            "Building dependency tree...\n",
            "Reading state information...\n",
            "The following additional packages will be installed:\n",
            "  libspatialindex-c4v5 libspatialindex-dev libspatialindex4v5\n",
            "  python3-pkg-resources\n",
            "Suggested packages:\n",
            "  python3-setuptools\n",
            "The following NEW packages will be installed:\n",
            "  libspatialindex-c4v5 libspatialindex-dev libspatialindex4v5\n",
            "  python3-pkg-resources python3-rtree\n",
            "0 upgraded, 5 newly installed, 0 to remove and 6 not upgraded.\n",
            "Need to get 671 kB of archives.\n",
            "After this operation, 3,948 kB of additional disk space will be used.\n",
            "Get:1 http://archive.ubuntu.com/ubuntu bionic/universe amd64 libspatialindex4v5 amd64 1.8.5-5 [219 kB]\n",
            "Get:2 http://archive.ubuntu.com/ubuntu bionic/universe amd64 libspatialindex-c4v5 amd64 1.8.5-5 [51.7 kB]\n",
            "Get:3 http://archive.ubuntu.com/ubuntu bionic/main amd64 python3-pkg-resources all 39.0.1-2 [98.8 kB]\n",
            "Get:4 http://archive.ubuntu.com/ubuntu bionic/universe amd64 libspatialindex-dev amd64 1.8.5-5 [285 kB]\n",
            "Get:5 http://archive.ubuntu.com/ubuntu bionic/universe amd64 python3-rtree all 0.8.3+ds-1 [16.9 kB]\n",
            "Fetched 671 kB in 1s (874 kB/s)\n",
            "Selecting previously unselected package libspatialindex4v5:amd64.\n",
            "(Reading database ... 144617 files and directories currently installed.)\n",
            "Preparing to unpack .../libspatialindex4v5_1.8.5-5_amd64.deb ...\n",
            "Unpacking libspatialindex4v5:amd64 (1.8.5-5) ...\n",
            "Selecting previously unselected package libspatialindex-c4v5:amd64.\n",
            "Preparing to unpack .../libspatialindex-c4v5_1.8.5-5_amd64.deb ...\n",
            "Unpacking libspatialindex-c4v5:amd64 (1.8.5-5) ...\n",
            "Selecting previously unselected package python3-pkg-resources.\n",
            "Preparing to unpack .../python3-pkg-resources_39.0.1-2_all.deb ...\n",
            "Unpacking python3-pkg-resources (39.0.1-2) ...\n",
            "Selecting previously unselected package libspatialindex-dev:amd64.\n",
            "Preparing to unpack .../libspatialindex-dev_1.8.5-5_amd64.deb ...\n",
            "Unpacking libspatialindex-dev:amd64 (1.8.5-5) ...\n",
            "Selecting previously unselected package python3-rtree.\n",
            "Preparing to unpack .../python3-rtree_0.8.3+ds-1_all.deb ...\n",
            "Unpacking python3-rtree (0.8.3+ds-1) ...\n",
            "Setting up libspatialindex4v5:amd64 (1.8.5-5) ...\n",
            "Setting up python3-pkg-resources (39.0.1-2) ...\n",
            "Setting up libspatialindex-c4v5:amd64 (1.8.5-5) ...\n",
            "Setting up libspatialindex-dev:amd64 (1.8.5-5) ...\n",
            "Setting up python3-rtree (0.8.3+ds-1) ...\n",
            "Processing triggers for libc-bin (2.27-3ubuntu1.2) ...\n",
            "/sbin/ldconfig.real: /usr/local/lib/python3.6/dist-packages/ideep4py/lib/libmkldnn.so.0 is not a symbolic link\n",
            "\n",
            "\u001b[K     |████████████████████████████████| 18.1MB 73.8MB/s \n",
            "\u001b[K     |████████████████████████████████| 102kB 12.8MB/s \n",
            "\u001b[K     |████████████████████████████████| 122kB 38.8MB/s \n",
            "\u001b[K     |████████████████████████████████| 92kB 12.4MB/s \n",
            "\u001b[K     |████████████████████████████████| 92kB 13.2MB/s \n",
            "\u001b[K     |████████████████████████████████| 133kB 74.1MB/s \n",
            "\u001b[?25h  Building wheel for pysal (setup.py) ... \u001b[?25l\u001b[?25hdone\n",
            "  Building wheel for inequality (setup.py) ... \u001b[?25l\u001b[?25hdone\n",
            "  Building wheel for pointpats (setup.py) ... \u001b[?25l\u001b[?25hdone\n",
            "  Building wheel for mgwr (setup.py) ... \u001b[?25l\u001b[?25hdone\n",
            "  Building wheel for spglm (setup.py) ... \u001b[?25l\u001b[?25hdone\n",
            "  Building wheel for spint (setup.py) ... \u001b[?25l\u001b[?25hdone\n",
            "  Building wheel for spvcm (setup.py) ... \u001b[?25l\u001b[?25hdone\n",
            "\u001b[31mERROR: datascience 0.10.6 has requirement folium==0.2.1, but you'll have folium 0.8.3 which is incompatible.\u001b[0m\n",
            "\u001b[31mERROR: albumentations 0.1.12 has requirement imgaug<0.2.7,>=0.2.5, but you'll have imgaug 0.2.9 which is incompatible.\u001b[0m\n",
            "\u001b[31mERROR: pytest-cov 2.10.1 has requirement coverage>=4.4, but you'll have coverage 3.7.1 which is incompatible.\u001b[0m\n",
            "\u001b[31mERROR: pytest-cov 2.10.1 has requirement pytest>=4.6, but you'll have pytest 3.6.4 which is incompatible.\u001b[0m\n",
            "CPU times: user 255 ms, sys: 97.9 ms, total: 353 ms\n",
            "Wall time: 1min 6s\n"
          ],
          "name": "stdout"
        }
      ]
    },
    {
      "cell_type": "code",
      "metadata": {
        "id": "jwhUfJLAfiwr",
        "outputId": "0114c9a6-123e-49f4-e7c9-e869bae66f5f",
        "colab": {
          "base_uri": "https://localhost:8080/",
          "height": 462
        }
      },
      "source": [
        "!pip install geopandas"
      ],
      "execution_count": 2,
      "outputs": [
        {
          "output_type": "stream",
          "text": [
            "Collecting geopandas\n",
            "\u001b[?25l  Downloading https://files.pythonhosted.org/packages/f7/a4/e66aafbefcbb717813bf3a355c8c4fc3ed04ea1dd7feb2920f2f4f868921/geopandas-0.8.1-py2.py3-none-any.whl (962kB)\n",
            "\u001b[K     |████████████████████████████████| 972kB 2.6MB/s \n",
            "\u001b[?25hCollecting fiona\n",
            "\u001b[?25l  Downloading https://files.pythonhosted.org/packages/36/8b/e8b2c11bed5373c8e98edb85ce891b09aa1f4210fd451d0fb3696b7695a2/Fiona-1.8.17-cp36-cp36m-manylinux1_x86_64.whl (14.8MB)\n",
            "\u001b[K     |████████████████████████████████| 14.8MB 314kB/s \n",
            "\u001b[?25hCollecting pyproj>=2.2.0\n",
            "\u001b[?25l  Downloading https://files.pythonhosted.org/packages/e5/c3/071e080230ac4b6c64f1a2e2f9161c9737a2bc7b683d2c90b024825000c0/pyproj-2.6.1.post1-cp36-cp36m-manylinux2010_x86_64.whl (10.9MB)\n",
            "\u001b[K     |████████████████████████████████| 10.9MB 48.5MB/s \n",
            "\u001b[?25hRequirement already satisfied: pandas>=0.23.0 in /usr/local/lib/python3.6/dist-packages (from geopandas) (1.1.2)\n",
            "Requirement already satisfied: shapely in /usr/local/lib/python3.6/dist-packages (from geopandas) (1.7.1)\n",
            "Requirement already satisfied: click<8,>=4.0 in /usr/local/lib/python3.6/dist-packages (from fiona->geopandas) (7.1.2)\n",
            "Collecting cligj>=0.5\n",
            "  Downloading https://files.pythonhosted.org/packages/e4/be/30a58b4b0733850280d01f8bd132591b4668ed5c7046761098d665ac2174/cligj-0.5.0-py3-none-any.whl\n",
            "Collecting munch\n",
            "  Downloading https://files.pythonhosted.org/packages/cc/ab/85d8da5c9a45e072301beb37ad7f833cd344e04c817d97e0cc75681d248f/munch-2.5.0-py2.py3-none-any.whl\n",
            "Collecting click-plugins>=1.0\n",
            "  Downloading https://files.pythonhosted.org/packages/e9/da/824b92d9942f4e472702488857914bdd50f73021efea15b4cad9aca8ecef/click_plugins-1.1.1-py2.py3-none-any.whl\n",
            "Requirement already satisfied: six>=1.7 in /usr/local/lib/python3.6/dist-packages (from fiona->geopandas) (1.15.0)\n",
            "Requirement already satisfied: attrs>=17 in /usr/local/lib/python3.6/dist-packages (from fiona->geopandas) (20.2.0)\n",
            "Requirement already satisfied: python-dateutil>=2.7.3 in /usr/local/lib/python3.6/dist-packages (from pandas>=0.23.0->geopandas) (2.8.1)\n",
            "Requirement already satisfied: numpy>=1.15.4 in /usr/local/lib/python3.6/dist-packages (from pandas>=0.23.0->geopandas) (1.18.5)\n",
            "Requirement already satisfied: pytz>=2017.2 in /usr/local/lib/python3.6/dist-packages (from pandas>=0.23.0->geopandas) (2018.9)\n",
            "Installing collected packages: cligj, munch, click-plugins, fiona, pyproj, geopandas\n",
            "Successfully installed click-plugins-1.1.1 cligj-0.5.0 fiona-1.8.17 geopandas-0.8.1 munch-2.5.0 pyproj-2.6.1.post1\n"
          ],
          "name": "stdout"
        }
      ]
    },
    {
      "cell_type": "code",
      "metadata": {
        "id": "jcdlL5WBgTvq",
        "outputId": "786a292a-fc40-450a-b017-b8fcde3b78e8",
        "colab": {
          "base_uri": "https://localhost:8080/",
          "height": 340
        }
      },
      "source": [
        "# Install descartes - Geopandas requirment\n",
        "!pip install descartes --quiet\n",
        "# Install Folium for Geographic data visualization\n",
        "!pip install folium --quiet\n",
        "# Install Pysal\n",
        "!pip install pysal --quiet\n",
        "# Install splot --> pysal\n",
        "!pip install splot --quiet\n",
        "# Install mapclassify\n",
        "!pip install mapclassify --quiet"
      ],
      "execution_count": 3,
      "outputs": [
        {
          "output_type": "stream",
          "text": [
            "\u001b[K     |████████████████████████████████| 112kB 2.9MB/s \n",
            "\u001b[K     |████████████████████████████████| 2.4MB 9.1MB/s \n",
            "\u001b[K     |████████████████████████████████| 71kB 8.5MB/s \n",
            "\u001b[K     |████████████████████████████████| 61kB 6.8MB/s \n",
            "\u001b[K     |████████████████████████████████| 61kB 6.9MB/s \n",
            "\u001b[K     |████████████████████████████████| 92kB 9.3MB/s \n",
            "\u001b[K     |████████████████████████████████| 51kB 7.0MB/s \n",
            "\u001b[K     |████████████████████████████████| 51kB 6.5MB/s \n",
            "\u001b[K     |████████████████████████████████| 266kB 23.0MB/s \n",
            "\u001b[K     |████████████████████████████████| 5.7MB 15.5MB/s \n",
            "\u001b[K     |████████████████████████████████| 235kB 40.6MB/s \n",
            "\u001b[K     |████████████████████████████████| 2.7MB 50.3MB/s \n",
            "\u001b[K     |████████████████████████████████| 235kB 37.7MB/s \n",
            "\u001b[K     |████████████████████████████████| 55.7MB 63kB/s \n",
            "\u001b[K     |████████████████████████████████| 71kB 9.6MB/s \n",
            "\u001b[31mERROR: Command errored out with exit status 1: python setup.py egg_info Check the logs for full command output.\u001b[0m\n",
            "\u001b[?25h  Building wheel for splot (setup.py) ... \u001b[?25l\u001b[?25hdone\n",
            "  Building wheel for libpysal (setup.py) ... \u001b[?25l\u001b[?25hdone\n",
            "  Building wheel for esda (setup.py) ... \u001b[?25l\u001b[?25hdone\n"
          ],
          "name": "stdout"
        }
      ]
    },
    {
      "cell_type": "code",
      "metadata": {
        "id": "JjLWMqgXoj7u",
        "outputId": "b2b9b277-c079-4971-fc66-9e5221cc884d",
        "colab": {
          "base_uri": "https://localhost:8080/",
          "height": 71
        }
      },
      "source": [
        "#import pandas as pd\n",
        "#import pandas.io.sql as sqlio\n",
        "#import psycopg2\n",
        "#import numpy as np\n",
        "i#mport matplotlib\n",
        "#import matplotlib.pyplot as plt\n",
        "#import seaborn as sns\n",
        "#import missingno\n",
        "#import folium \n",
        "#from folium import plugins\n",
        "#from folium.plugins import HeatMap\n",
        "#from geopy.geocoders import Nominatim\n",
        "#%matplotlib inline"
      ],
      "execution_count": null,
      "outputs": [
        {
          "output_type": "stream",
          "text": [
            "/usr/local/lib/python3.6/dist-packages/psycopg2/__init__.py:144: UserWarning: The psycopg2 wheel package will be renamed from release 2.8; in order to keep installing from binary please use \"pip install psycopg2-binary\" instead. For details see: <http://initd.org/psycopg/docs/install.html#binary-install-from-pypi>.\n",
            "  \"\"\")\n"
          ],
          "name": "stderr"
        }
      ]
    },
    {
      "cell_type": "code",
      "metadata": {
        "id": "Q_rxQ3_f63Pa"
      },
      "source": [
        "import pandas as pd\n",
        "import pandas.io.sql as sqlio\n",
        "import psycopg2\n",
        "import numpy as np\n",
        "import geopandas as gpd\n",
        "from shapely.geometry import Point\n",
        "from pysal.explore import esda\n",
        "from pysal.lib import weights\n",
        "#import libysal as lps\n",
        "#from pysal.viz.splot.esda import plot_moran, plot_local_autocorrelation, lisa_cluster\n",
        "import matplotlib\n",
        "import matplotlib.pyplot as plt \n",
        "\n",
        "import folium\n",
        "from folium import plugins\n",
        "from folium.plugins import HeatMap\n",
        "\n",
        "import os\n",
        "import seaborn as sns\n",
        "#from sklearn.cluster import KMeans\n",
        "from sklearn.cluster import dbscan\n",
        "\n",
        "from libpysal.weights.contiguity import Queen\n",
        "from esda.moran import Moran\n",
        "from splot.esda import moran_scatterplot\n",
        "from esda.moran import Moran_Local\n",
        "from splot.esda import lisa_cluster\n",
        "\n",
        "import pysal as ps\n",
        "ps.__version__\n",
        "\n",
        "import missingno\n",
        "from geopy.geocoders import Nominatim\n",
        "\n",
        "from geopandas.tools import geocode"
      ],
      "execution_count": 7,
      "outputs": []
    },
    {
      "cell_type": "code",
      "metadata": {
        "id": "QQU1uQ-W7nWR"
      },
      "source": [
        "%matplotlib inline"
      ],
      "execution_count": null,
      "outputs": []
    },
    {
      "cell_type": "code",
      "metadata": {
        "id": "4Y-uOLZ_o4q_",
        "outputId": "df5e8f6f-8965-454a-c003-7e29e2f4cf3d",
        "colab": {
          "base_uri": "https://localhost:8080/",
          "height": 34
        }
      },
      "source": [
        "username=\"taxisrcp_user\"\n",
        "password=\"123123123\"\n",
        "host=\"ds4ataxisrcp.col3gdd6vsxk.us-east-2.rds.amazonaws.com\"\n",
        "port=\"5432\"\n",
        "dbname=\"taxisrcp_db\"\n",
        "try:\n",
        "    connection = psycopg2.connect(\"host='{}' port={} dbname='{}' user={} password={}\".format(host, port, dbname, username, password))\n",
        "    sql = '''select s.id, s.creado fecha, \n",
        "              tp.parametro estado, \n",
        "              s.tipo_servicio,\n",
        "              dir.numero directorio,\n",
        "              direc.direccion_completa direccion,\n",
        "              direc.latitud,\n",
        "              direc.longitud,\n",
        "              b.barrio,\n",
        "              p.nombres,\n",
        "              p.genero\n",
        "            from mastermind_solicitud s \n",
        "            inner join parametrizacion_tipoparametro tp on s.status_id = tp.id\n",
        "            left join administracion_directorio dir on s.directorio_id=dir.id\n",
        "            left join administracion_perfil p on dir.perfil_id=p.id\n",
        "            left join administracion_direccion direc on dir.direccion_id = direc.id::integer\n",
        "            left join administracion_barrio b on direc.barrio_id::integer = b.id'''   \n",
        "    df = sqlio.read_sql_query(sql, connection)\n",
        "    #sql = \"select * from administracion_directorio\"\n",
        "    #df_directorio = sqlio.read_sql_query(sql, connection)\n",
        "\n",
        "except (Exception, psycopg2.Error) as error :\n",
        "    print (\"Error while fetching data from PostgreSQL\", error)\n",
        "\n",
        "finally:\n",
        "    #closing database connection.\n",
        "    if(connection):\n",
        "        connection.close()\n",
        "        print(\"PostgreSQL connection is closed\")"
      ],
      "execution_count": 8,
      "outputs": [
        {
          "output_type": "stream",
          "text": [
            "PostgreSQL connection is closed\n"
          ],
          "name": "stdout"
        }
      ]
    },
    {
      "cell_type": "code",
      "metadata": {
        "id": "BKYM7I1OqMxN",
        "outputId": "90ede25d-85ae-457b-db51-161232bb404a",
        "colab": {
          "base_uri": "https://localhost:8080/",
          "height": 589
        }
      },
      "source": [
        "df"
      ],
      "execution_count": 9,
      "outputs": [
        {
          "output_type": "execute_result",
          "data": {
            "text/html": [
              "<div>\n",
              "<style scoped>\n",
              "    .dataframe tbody tr th:only-of-type {\n",
              "        vertical-align: middle;\n",
              "    }\n",
              "\n",
              "    .dataframe tbody tr th {\n",
              "        vertical-align: top;\n",
              "    }\n",
              "\n",
              "    .dataframe thead th {\n",
              "        text-align: right;\n",
              "    }\n",
              "</style>\n",
              "<table border=\"1\" class=\"dataframe\">\n",
              "  <thead>\n",
              "    <tr style=\"text-align: right;\">\n",
              "      <th></th>\n",
              "      <th>id</th>\n",
              "      <th>fecha</th>\n",
              "      <th>estado</th>\n",
              "      <th>tipo_servicio</th>\n",
              "      <th>directorio</th>\n",
              "      <th>direccion</th>\n",
              "      <th>latitud</th>\n",
              "      <th>longitud</th>\n",
              "      <th>barrio</th>\n",
              "      <th>nombres</th>\n",
              "      <th>genero</th>\n",
              "    </tr>\n",
              "  </thead>\n",
              "  <tbody>\n",
              "    <tr>\n",
              "      <th>0</th>\n",
              "      <td>1684494</td>\n",
              "      <td>2019-06-15</td>\n",
              "      <td>Confirmada fuera de tiempo</td>\n",
              "      <td>SC</td>\n",
              "      <td>1342</td>\n",
              "      <td>Calle 16 # 37 - 47 Las Margaritas</td>\n",
              "      <td>1.2203757</td>\n",
              "      <td>-77.28633259999998</td>\n",
              "      <td>Las Margaritas</td>\n",
              "      <td>None</td>\n",
              "      <td>None</td>\n",
              "    </tr>\n",
              "    <tr>\n",
              "      <th>1</th>\n",
              "      <td>1684511</td>\n",
              "      <td>2019-06-15</td>\n",
              "      <td>Confirmada</td>\n",
              "      <td>SC</td>\n",
              "      <td>1024</td>\n",
              "      <td>TORRES DE MARILUZ</td>\n",
              "      <td>None</td>\n",
              "      <td>None</td>\n",
              "      <td>Mariluz  III</td>\n",
              "      <td>None</td>\n",
              "      <td>None</td>\n",
              "    </tr>\n",
              "    <tr>\n",
              "      <th>2</th>\n",
              "      <td>1684513</td>\n",
              "      <td>2019-06-15</td>\n",
              "      <td>Confirmada fuera de tiempo</td>\n",
              "      <td>SC</td>\n",
              "      <td>7293074</td>\n",
              "      <td>miravalle</td>\n",
              "      <td>None</td>\n",
              "      <td>None</td>\n",
              "      <td>None</td>\n",
              "      <td>None</td>\n",
              "      <td>None</td>\n",
              "    </tr>\n",
              "    <tr>\n",
              "      <th>3</th>\n",
              "      <td>1684520</td>\n",
              "      <td>2019-06-15</td>\n",
              "      <td>Confirmada fuera de tiempo</td>\n",
              "      <td>SC</td>\n",
              "      <td>3013488266</td>\n",
              "      <td>kr 24  13 54 santiago</td>\n",
              "      <td>None</td>\n",
              "      <td>None</td>\n",
              "      <td>None</td>\n",
              "      <td>None</td>\n",
              "      <td>None</td>\n",
              "    </tr>\n",
              "    <tr>\n",
              "      <th>4</th>\n",
              "      <td>1684525</td>\n",
              "      <td>2019-06-15</td>\n",
              "      <td>Confirmada fuera de tiempo</td>\n",
              "      <td>SC</td>\n",
              "      <td>1011</td>\n",
              "      <td>KR 35  19 10 HABITAR VERSALLES</td>\n",
              "      <td>None</td>\n",
              "      <td>None</td>\n",
              "      <td>Versalles</td>\n",
              "      <td>None</td>\n",
              "      <td>None</td>\n",
              "    </tr>\n",
              "    <tr>\n",
              "      <th>...</th>\n",
              "      <td>...</td>\n",
              "      <td>...</td>\n",
              "      <td>...</td>\n",
              "      <td>...</td>\n",
              "      <td>...</td>\n",
              "      <td>...</td>\n",
              "      <td>...</td>\n",
              "      <td>...</td>\n",
              "      <td>...</td>\n",
              "      <td>...</td>\n",
              "      <td>...</td>\n",
              "    </tr>\n",
              "    <tr>\n",
              "      <th>2436910</th>\n",
              "      <td>1684278</td>\n",
              "      <td>2019-06-15</td>\n",
              "      <td>Confirmada fuera de tiempo</td>\n",
              "      <td>SC</td>\n",
              "      <td>3177203316</td>\n",
              "      <td>CANCHALA</td>\n",
              "      <td>None</td>\n",
              "      <td>None</td>\n",
              "      <td>None</td>\n",
              "      <td>None</td>\n",
              "      <td>None</td>\n",
              "    </tr>\n",
              "    <tr>\n",
              "      <th>2436911</th>\n",
              "      <td>1684341</td>\n",
              "      <td>2019-06-15</td>\n",
              "      <td>Confirmada fuera de tiempo</td>\n",
              "      <td>SC</td>\n",
              "      <td>3165780828</td>\n",
              "      <td>cra 18 13a 24</td>\n",
              "      <td>None</td>\n",
              "      <td>None</td>\n",
              "      <td>None</td>\n",
              "      <td>None</td>\n",
              "      <td>None</td>\n",
              "    </tr>\n",
              "    <tr>\n",
              "      <th>2436912</th>\n",
              "      <td>1684398</td>\n",
              "      <td>2019-06-15</td>\n",
              "      <td>Confirmada fuera de tiempo</td>\n",
              "      <td>SC</td>\n",
              "      <td>3013922758</td>\n",
              "      <td>KRA  41  9  25   M/3</td>\n",
              "      <td>None</td>\n",
              "      <td>None</td>\n",
              "      <td>None</td>\n",
              "      <td>None</td>\n",
              "      <td>None</td>\n",
              "    </tr>\n",
              "    <tr>\n",
              "      <th>2436913</th>\n",
              "      <td>1684449</td>\n",
              "      <td>2019-06-15</td>\n",
              "      <td>Confirmada fuera de tiempo</td>\n",
              "      <td>SC</td>\n",
              "      <td>3015410836</td>\n",
              "      <td>Calle 19 # 17b - 58</td>\n",
              "      <td>None</td>\n",
              "      <td>None</td>\n",
              "      <td>None</td>\n",
              "      <td>None</td>\n",
              "      <td>None</td>\n",
              "    </tr>\n",
              "    <tr>\n",
              "      <th>2436914</th>\n",
              "      <td>1684482</td>\n",
              "      <td>2019-06-15</td>\n",
              "      <td>Confirmada fuera de tiempo</td>\n",
              "      <td>SC</td>\n",
              "      <td>3165187982</td>\n",
              "      <td>Calle 12 # 32 - 56 La aurora</td>\n",
              "      <td>None</td>\n",
              "      <td>None</td>\n",
              "      <td>None</td>\n",
              "      <td>None</td>\n",
              "      <td>None</td>\n",
              "    </tr>\n",
              "  </tbody>\n",
              "</table>\n",
              "<p>2436915 rows × 11 columns</p>\n",
              "</div>"
            ],
            "text/plain": [
              "              id       fecha  ... nombres genero\n",
              "0        1684494  2019-06-15  ...    None   None\n",
              "1        1684511  2019-06-15  ...    None   None\n",
              "2        1684513  2019-06-15  ...    None   None\n",
              "3        1684520  2019-06-15  ...    None   None\n",
              "4        1684525  2019-06-15  ...    None   None\n",
              "...          ...         ...  ...     ...    ...\n",
              "2436910  1684278  2019-06-15  ...    None   None\n",
              "2436911  1684341  2019-06-15  ...    None   None\n",
              "2436912  1684398  2019-06-15  ...    None   None\n",
              "2436913  1684449  2019-06-15  ...    None   None\n",
              "2436914  1684482  2019-06-15  ...    None   None\n",
              "\n",
              "[2436915 rows x 11 columns]"
            ]
          },
          "metadata": {
            "tags": []
          },
          "execution_count": 9
        }
      ]
    },
    {
      "cell_type": "code",
      "metadata": {
        "id": "lYayX-FIF51J",
        "outputId": "7b52d172-05f8-4001-ac85-375fd5321bfc",
        "colab": {
          "base_uri": "https://localhost:8080/",
          "height": 510
        }
      },
      "source": [
        "df.info()\n",
        "df.head()"
      ],
      "execution_count": 16,
      "outputs": [
        {
          "output_type": "stream",
          "text": [
            "<class 'pandas.core.frame.DataFrame'>\n",
            "RangeIndex: 2436915 entries, 0 to 2436914\n",
            "Data columns (total 11 columns):\n",
            " #   Column         Dtype         \n",
            "---  ------         -----         \n",
            " 0   id             int64         \n",
            " 1   fecha          datetime64[ns]\n",
            " 2   estado         category      \n",
            " 3   tipo_servicio  category      \n",
            " 4   directorio     object        \n",
            " 5   direccion      object        \n",
            " 6   latitud        float64       \n",
            " 7   longitud       float64       \n",
            " 8   barrio         object        \n",
            " 9   nombres        object        \n",
            " 10  genero         category      \n",
            "dtypes: category(3), datetime64[ns](1), float64(2), int64(1), object(4)\n",
            "memory usage: 155.7+ MB\n"
          ],
          "name": "stdout"
        },
        {
          "output_type": "execute_result",
          "data": {
            "text/html": [
              "<div>\n",
              "<style scoped>\n",
              "    .dataframe tbody tr th:only-of-type {\n",
              "        vertical-align: middle;\n",
              "    }\n",
              "\n",
              "    .dataframe tbody tr th {\n",
              "        vertical-align: top;\n",
              "    }\n",
              "\n",
              "    .dataframe thead th {\n",
              "        text-align: right;\n",
              "    }\n",
              "</style>\n",
              "<table border=\"1\" class=\"dataframe\">\n",
              "  <thead>\n",
              "    <tr style=\"text-align: right;\">\n",
              "      <th></th>\n",
              "      <th>id</th>\n",
              "      <th>fecha</th>\n",
              "      <th>estado</th>\n",
              "      <th>tipo_servicio</th>\n",
              "      <th>directorio</th>\n",
              "      <th>direccion</th>\n",
              "      <th>latitud</th>\n",
              "      <th>longitud</th>\n",
              "      <th>barrio</th>\n",
              "      <th>nombres</th>\n",
              "      <th>genero</th>\n",
              "    </tr>\n",
              "  </thead>\n",
              "  <tbody>\n",
              "    <tr>\n",
              "      <th>0</th>\n",
              "      <td>1684494</td>\n",
              "      <td>2019-06-15</td>\n",
              "      <td>Confirmada fuera de tiempo</td>\n",
              "      <td>SC</td>\n",
              "      <td>1342</td>\n",
              "      <td>Calle 16 # 37 - 47 Las Margaritas</td>\n",
              "      <td>1.220376</td>\n",
              "      <td>-77.286333</td>\n",
              "      <td>Las Margaritas</td>\n",
              "      <td>nan</td>\n",
              "      <td>NaN</td>\n",
              "    </tr>\n",
              "    <tr>\n",
              "      <th>1</th>\n",
              "      <td>1684511</td>\n",
              "      <td>2019-06-15</td>\n",
              "      <td>Confirmada</td>\n",
              "      <td>SC</td>\n",
              "      <td>1024</td>\n",
              "      <td>TORRES DE MARILUZ</td>\n",
              "      <td>NaN</td>\n",
              "      <td>NaN</td>\n",
              "      <td>Mariluz  III</td>\n",
              "      <td>nan</td>\n",
              "      <td>NaN</td>\n",
              "    </tr>\n",
              "    <tr>\n",
              "      <th>2</th>\n",
              "      <td>1684513</td>\n",
              "      <td>2019-06-15</td>\n",
              "      <td>Confirmada fuera de tiempo</td>\n",
              "      <td>SC</td>\n",
              "      <td>7293074</td>\n",
              "      <td>miravalle</td>\n",
              "      <td>NaN</td>\n",
              "      <td>NaN</td>\n",
              "      <td>nan</td>\n",
              "      <td>nan</td>\n",
              "      <td>NaN</td>\n",
              "    </tr>\n",
              "    <tr>\n",
              "      <th>3</th>\n",
              "      <td>1684520</td>\n",
              "      <td>2019-06-15</td>\n",
              "      <td>Confirmada fuera de tiempo</td>\n",
              "      <td>SC</td>\n",
              "      <td>3013488266</td>\n",
              "      <td>kr 24  13 54 santiago</td>\n",
              "      <td>NaN</td>\n",
              "      <td>NaN</td>\n",
              "      <td>nan</td>\n",
              "      <td>nan</td>\n",
              "      <td>NaN</td>\n",
              "    </tr>\n",
              "    <tr>\n",
              "      <th>4</th>\n",
              "      <td>1684525</td>\n",
              "      <td>2019-06-15</td>\n",
              "      <td>Confirmada fuera de tiempo</td>\n",
              "      <td>SC</td>\n",
              "      <td>1011</td>\n",
              "      <td>KR 35  19 10 HABITAR VERSALLES</td>\n",
              "      <td>NaN</td>\n",
              "      <td>NaN</td>\n",
              "      <td>Versalles</td>\n",
              "      <td>nan</td>\n",
              "      <td>NaN</td>\n",
              "    </tr>\n",
              "  </tbody>\n",
              "</table>\n",
              "</div>"
            ],
            "text/plain": [
              "        id      fecha  ... nombres genero\n",
              "0  1684494 2019-06-15  ...     nan    NaN\n",
              "1  1684511 2019-06-15  ...     nan    NaN\n",
              "2  1684513 2019-06-15  ...     nan    NaN\n",
              "3  1684520 2019-06-15  ...     nan    NaN\n",
              "4  1684525 2019-06-15  ...     nan    NaN\n",
              "\n",
              "[5 rows x 11 columns]"
            ]
          },
          "metadata": {
            "tags": []
          },
          "execution_count": 16
        }
      ]
    },
    {
      "cell_type": "code",
      "metadata": {
        "id": "Di5QRLkQdLcP",
        "outputId": "27776f45-9dc4-4edf-8171-cc2efcca5887",
        "colab": {
          "base_uri": "https://localhost:8080/",
          "height": 51
        }
      },
      "source": [
        "df['estado'].unique()"
      ],
      "execution_count": null,
      "outputs": [
        {
          "output_type": "execute_result",
          "data": {
            "text/plain": [
              "array(['Confirmada fuera de tiempo', 'Confirmada', 'Generada',\n",
              "       'Cancelada', 'Activa'], dtype=object)"
            ]
          },
          "metadata": {
            "tags": []
          },
          "execution_count": 10
        }
      ]
    },
    {
      "cell_type": "markdown",
      "metadata": {
        "id": "KjNk2hpHW5Hu"
      },
      "source": [
        "The output shows that we have around 2.4 million entries with 10 columns. There are some columns with null values. The data type of columns have the same type so we need to to set up the correct data type."
      ]
    },
    {
      "cell_type": "markdown",
      "metadata": {
        "id": "cuSf_tI3Y9md"
      },
      "source": [
        "## **Setting the data types correctly**\n",
        "we will change the data types in the following way:\n",
        "\n",
        "*   fecha to datatime\n",
        "*   estado to categorical\n",
        "*   tipo_servicio to categorical\n",
        "*   directorio to string\n",
        "*   direccion to string\n",
        "*   latitud to numeric\n",
        "*   longitud to numeric\n",
        "*   barrio to string\n",
        "*   nombres to string\n",
        "*   genero to categorical\n"
      ]
    },
    {
      "cell_type": "code",
      "metadata": {
        "id": "iZcQKQZibi_t"
      },
      "source": [
        "df['fecha'] = pd.to_datetime(df['fecha'])\n",
        "df['estado'] = df['estado'].astype('category')\n",
        "df['tipo_servicio'] = df['tipo_servicio'].astype('category')\n",
        "df['directorio'] = df['directorio'].astype('str')\n",
        "df['latitud'] = df['latitud'].astype('float64')\n",
        "df['longitud'] = df['longitud'].astype('float64')\n",
        "df['barrio'] = df['barrio'].astype('str')\n",
        "df['nombres'] = df['nombres'].astype('str')\n",
        "df['genero'] = df['genero'].astype('category')"
      ],
      "execution_count": 17,
      "outputs": []
    },
    {
      "cell_type": "code",
      "metadata": {
        "id": "C2eAqZhpgSST",
        "outputId": "ef73f836-d9af-494f-88a4-79fd5af0f27d",
        "colab": {
          "base_uri": "https://localhost:8080/",
          "height": 323
        }
      },
      "source": [
        "df.info()"
      ],
      "execution_count": 18,
      "outputs": [
        {
          "output_type": "stream",
          "text": [
            "<class 'pandas.core.frame.DataFrame'>\n",
            "RangeIndex: 2436915 entries, 0 to 2436914\n",
            "Data columns (total 11 columns):\n",
            " #   Column         Dtype         \n",
            "---  ------         -----         \n",
            " 0   id             int64         \n",
            " 1   fecha          datetime64[ns]\n",
            " 2   estado         category      \n",
            " 3   tipo_servicio  category      \n",
            " 4   directorio     object        \n",
            " 5   direccion      object        \n",
            " 6   latitud        float64       \n",
            " 7   longitud       float64       \n",
            " 8   barrio         object        \n",
            " 9   nombres        object        \n",
            " 10  genero         category      \n",
            "dtypes: category(3), datetime64[ns](1), float64(2), int64(1), object(4)\n",
            "memory usage: 155.7+ MB\n"
          ],
          "name": "stdout"
        }
      ]
    },
    {
      "cell_type": "markdown",
      "metadata": {
        "id": "Qp5bdM7UgkX3"
      },
      "source": [
        "# **Missing values and Duplicated Entries**"
      ]
    },
    {
      "cell_type": "code",
      "metadata": {
        "id": "Zi70MnyMtlDy",
        "outputId": "5c49cf4d-fa8d-4c50-82db-e15ba82eb522",
        "colab": {
          "base_uri": "https://localhost:8080/",
          "height": 221
        }
      },
      "source": [
        "df.isna().sum()"
      ],
      "execution_count": 19,
      "outputs": [
        {
          "output_type": "execute_result",
          "data": {
            "text/plain": [
              "id                     0\n",
              "fecha                  0\n",
              "estado                 0\n",
              "tipo_servicio          0\n",
              "directorio             0\n",
              "direccion           2064\n",
              "latitud          1897029\n",
              "longitud         1897029\n",
              "barrio                 0\n",
              "nombres                0\n",
              "genero           2433075\n",
              "dtype: int64"
            ]
          },
          "metadata": {
            "tags": []
          },
          "execution_count": 19
        }
      ]
    },
    {
      "cell_type": "code",
      "metadata": {
        "id": "S_c0ZcSngeLd",
        "outputId": "b975126c-ba90-45bc-caa6-ef4a4e369107",
        "colab": {
          "base_uri": "https://localhost:8080/",
          "height": 587
        }
      },
      "source": [
        "if len(df[df.isnull().any(axis=1)] != 0):\n",
        "  missingno.matrix(df)\n",
        "  plt.show()"
      ],
      "execution_count": 20,
      "outputs": [
        {
          "output_type": "display_data",
          "data": {
            "image/png": "[encoded data removed]",
            "text/plain": [
              "<Figure size 1800x720 with 2 Axes>"
            ]
          },
          "metadata": {
            "tags": [],
            "needs_background": "light"
          }
        }
      ]
    },
    {
      "cell_type": "markdown",
      "metadata": {
        "id": "sauH2jLfjzsL"
      },
      "source": [
        ""
      ]
    },
    {
      "cell_type": "code",
      "metadata": {
        "id": "Zy54p-2rj0O8",
        "outputId": "f9108dff-149c-454c-d9af-10e4cb9b6db1",
        "colab": {
          "base_uri": "https://localhost:8080/",
          "height": 678
        }
      },
      "source": [
        "missingno.bar(df)"
      ],
      "execution_count": 21,
      "outputs": [
        {
          "output_type": "execute_result",
          "data": {
            "text/plain": [
              "<matplotlib.axes._subplots.AxesSubplot at 0x7ff14989d198>"
            ]
          },
          "metadata": {
            "tags": []
          },
          "execution_count": 21
        },
        {
          "output_type": "display_data",
          "data": {
            "image/png": "[encoded data removed]",
            "text/plain": [
              "<Figure size 1728x720 with 3 Axes>"
            ]
          },
          "metadata": {
            "tags": [],
            "needs_background": "light"
          }
        }
      ]
    },
    {
      "cell_type": "code",
      "metadata": {
        "id": "INjYuuy_kPx3",
        "outputId": "69a289a3-4e0c-479b-a1a9-014af5a8daf5",
        "colab": {
          "base_uri": "https://localhost:8080/",
          "height": 51
        }
      },
      "source": [
        "# generate count statistics of duplicate entries\n",
        "if len(df[df.duplicated()]) > 0:\n",
        "  print(\"\\n***Number of duplicated entries: \", len(df[df.duplicated()]))\n",
        "  display(df[df.duplicated(keep=False)].sort_values(by=list(df.columns)).head())\n",
        "else:\n",
        "  print(\"\\nNo duplicated entries found\")\n"
      ],
      "execution_count": 22,
      "outputs": [
        {
          "output_type": "stream",
          "text": [
            "\n",
            "No duplicated entries found\n"
          ],
          "name": "stdout"
        }
      ]
    },
    {
      "cell_type": "markdown",
      "metadata": {
        "id": "ezmgasNJAUSo"
      },
      "source": [
        "Drop rows with direccion values null"
      ]
    },
    {
      "cell_type": "code",
      "metadata": {
        "id": "s5DLDNy2iTha"
      },
      "source": [
        "df.dropna(subset=['direccion'],inplace=True)"
      ],
      "execution_count": 23,
      "outputs": []
    },
    {
      "cell_type": "code",
      "metadata": {
        "id": "x-3l9JsgAos_",
        "outputId": "6fa1cf16-27bf-4083-f63f-c74bfc4172fe",
        "colab": {
          "base_uri": "https://localhost:8080/",
          "height": 221
        }
      },
      "source": [
        "df.isna().sum()"
      ],
      "execution_count": 25,
      "outputs": [
        {
          "output_type": "execute_result",
          "data": {
            "text/plain": [
              "id                     0\n",
              "fecha                  0\n",
              "estado                 0\n",
              "tipo_servicio          0\n",
              "directorio             0\n",
              "direccion              0\n",
              "latitud          1894965\n",
              "longitud         1894965\n",
              "barrio                 0\n",
              "nombres                0\n",
              "genero           2431011\n",
              "dtype: int64"
            ]
          },
          "metadata": {
            "tags": []
          },
          "execution_count": 25
        }
      ]
    },
    {
      "cell_type": "code",
      "metadata": {
        "id": "n0lmR0HrBMST",
        "outputId": "d7641dce-97d8-45a2-f2fd-d648b4cb2fdb",
        "colab": {
          "base_uri": "https://localhost:8080/",
          "height": 34
        }
      },
      "source": [
        "df.shape"
      ],
      "execution_count": 26,
      "outputs": [
        {
          "output_type": "execute_result",
          "data": {
            "text/plain": [
              "(2434851, 11)"
            ]
          },
          "metadata": {
            "tags": []
          },
          "execution_count": 26
        }
      ]
    },
    {
      "cell_type": "code",
      "metadata": {
        "id": "CgfEXCiuBTIl"
      },
      "source": [
        "df_latlon = df.dropna(subset=['latitud','longitud'])\n"
      ],
      "execution_count": 29,
      "outputs": []
    },
    {
      "cell_type": "code",
      "metadata": {
        "id": "SlymEwBeCKs_",
        "outputId": "748275e6-12f3-4dc3-ceb1-fe597bcb8f11",
        "colab": {
          "base_uri": "https://localhost:8080/",
          "height": 221
        }
      },
      "source": [
        "df_latlon.isna().sum()"
      ],
      "execution_count": 30,
      "outputs": [
        {
          "output_type": "execute_result",
          "data": {
            "text/plain": [
              "id                    0\n",
              "fecha                 0\n",
              "estado                0\n",
              "tipo_servicio         0\n",
              "directorio            0\n",
              "direccion             0\n",
              "latitud               0\n",
              "longitud              0\n",
              "barrio                0\n",
              "nombres               0\n",
              "genero           537145\n",
              "dtype: int64"
            ]
          },
          "metadata": {
            "tags": []
          },
          "execution_count": 30
        }
      ]
    },
    {
      "cell_type": "code",
      "metadata": {
        "id": "3Zz38k8kGCup",
        "outputId": "cf0e86ff-3c61-4101-f791-16ee5bd16acb",
        "colab": {
          "base_uri": "https://localhost:8080/",
          "height": 34
        }
      },
      "source": [
        "df_latlon.shape"
      ],
      "execution_count": 31,
      "outputs": [
        {
          "output_type": "execute_result",
          "data": {
            "text/plain": [
              "(539886, 11)"
            ]
          },
          "metadata": {
            "tags": []
          },
          "execution_count": 31
        }
      ]
    },
    {
      "cell_type": "markdown",
      "metadata": {
        "id": "9cfTkX1sut4Z"
      },
      "source": [
        "# **Detecting outliers**"
      ]
    },
    {
      "cell_type": "code",
      "metadata": {
        "id": "4lG0M4RhBf-o"
      },
      "source": [
        "# Function to create a Geodataframe. This code was taken from Geospatial-Data-Science-Quick-Start-Guide book\n",
        "def create_gdf(df, lat, lon):\n",
        "  \"\"\" Convert pandas dataframe into a Geopandas GeoDataFrame\"\"\"\n",
        "  crs = {'init': 'epsg:4326'}\n",
        "  geometry = [Point(xy) for xy in zip(df[lon], df[lat])]\n",
        "  gdf = gpd.GeoDataFrame(df, crs=crs, geometry=geometry)\n",
        "  return gdf\n",
        "\n"
      ],
      "execution_count": 33,
      "outputs": []
    },
    {
      "cell_type": "code",
      "metadata": {
        "id": "0OIvbNFjCX9g",
        "outputId": "84c62e95-400a-40c1-af52-51d1e32d519d",
        "colab": {
          "base_uri": "https://localhost:8080/",
          "height": 343
        }
      },
      "source": [
        "taxi_gdf = create_gdf(df_latlon, 'latitud', 'longitud')\n",
        "taxi_gdf.head()"
      ],
      "execution_count": 34,
      "outputs": [
        {
          "output_type": "stream",
          "text": [
            "/usr/local/lib/python3.6/dist-packages/pyproj/crs/crs.py:53: FutureWarning: '+init=<authority>:<code>' syntax is deprecated. '<authority>:<code>' is the preferred initialization method. When making the change, be mindful of axis order changes: https://pyproj4.github.io/pyproj/stable/gotchas.html#axis-order-changes-in-proj-6\n",
            "  return _prepare_from_string(\" \".join(pjargs))\n"
          ],
          "name": "stderr"
        },
        {
          "output_type": "execute_result",
          "data": {
            "text/html": [
              "<div>\n",
              "<style scoped>\n",
              "    .dataframe tbody tr th:only-of-type {\n",
              "        vertical-align: middle;\n",
              "    }\n",
              "\n",
              "    .dataframe tbody tr th {\n",
              "        vertical-align: top;\n",
              "    }\n",
              "\n",
              "    .dataframe thead th {\n",
              "        text-align: right;\n",
              "    }\n",
              "</style>\n",
              "<table border=\"1\" class=\"dataframe\">\n",
              "  <thead>\n",
              "    <tr style=\"text-align: right;\">\n",
              "      <th></th>\n",
              "      <th>id</th>\n",
              "      <th>fecha</th>\n",
              "      <th>estado</th>\n",
              "      <th>tipo_servicio</th>\n",
              "      <th>directorio</th>\n",
              "      <th>direccion</th>\n",
              "      <th>latitud</th>\n",
              "      <th>longitud</th>\n",
              "      <th>barrio</th>\n",
              "      <th>nombres</th>\n",
              "      <th>genero</th>\n",
              "      <th>geometry</th>\n",
              "    </tr>\n",
              "  </thead>\n",
              "  <tbody>\n",
              "    <tr>\n",
              "      <th>0</th>\n",
              "      <td>1684494</td>\n",
              "      <td>2019-06-15</td>\n",
              "      <td>Confirmada fuera de tiempo</td>\n",
              "      <td>SC</td>\n",
              "      <td>1342</td>\n",
              "      <td>Calle 16 # 37 - 47 Las Margaritas</td>\n",
              "      <td>1.220376</td>\n",
              "      <td>-77.286333</td>\n",
              "      <td>Las Margaritas</td>\n",
              "      <td>nan</td>\n",
              "      <td>NaN</td>\n",
              "      <td>POINT (-77.28633 1.22038)</td>\n",
              "    </tr>\n",
              "    <tr>\n",
              "      <th>13</th>\n",
              "      <td>1684554</td>\n",
              "      <td>2019-06-15</td>\n",
              "      <td>Confirmada fuera de tiempo</td>\n",
              "      <td>SC</td>\n",
              "      <td>7367325</td>\n",
              "      <td>Carrera 35 # 16 B - ED. ARADAS</td>\n",
              "      <td>1.216537</td>\n",
              "      <td>-77.291056</td>\n",
              "      <td>Parana</td>\n",
              "      <td>nan</td>\n",
              "      <td>NaN</td>\n",
              "      <td>POINT (-77.29106 1.21654)</td>\n",
              "    </tr>\n",
              "    <tr>\n",
              "      <th>16</th>\n",
              "      <td>1684557</td>\n",
              "      <td>2019-06-15</td>\n",
              "      <td>Confirmada fuera de tiempo</td>\n",
              "      <td>SC</td>\n",
              "      <td>3174131309</td>\n",
              "      <td>Manzana i cs 12b La Lomita</td>\n",
              "      <td>1.207778</td>\n",
              "      <td>-77.277222</td>\n",
              "      <td>La Lomita</td>\n",
              "      <td>nan</td>\n",
              "      <td>NaN</td>\n",
              "      <td>POINT (-77.27722 1.20778)</td>\n",
              "    </tr>\n",
              "    <tr>\n",
              "      <th>20</th>\n",
              "      <td>1684566</td>\n",
              "      <td>2019-06-15</td>\n",
              "      <td>Confirmada fuera de tiempo</td>\n",
              "      <td>SC</td>\n",
              "      <td>39</td>\n",
              "      <td>Carrera 39 # 19 - 29 MURANO 39</td>\n",
              "      <td>1.198642</td>\n",
              "      <td>-77.276898</td>\n",
              "      <td>Palermo</td>\n",
              "      <td>nan</td>\n",
              "      <td>NaN</td>\n",
              "      <td>POINT (-77.27690 1.19864)</td>\n",
              "    </tr>\n",
              "    <tr>\n",
              "      <th>25</th>\n",
              "      <td>1684578</td>\n",
              "      <td>2019-06-15</td>\n",
              "      <td>Confirmada fuera de tiempo</td>\n",
              "      <td>SC</td>\n",
              "      <td>388</td>\n",
              "      <td>Calle 9 # 40 - 04 ED ATURES</td>\n",
              "      <td>1.201020</td>\n",
              "      <td>-77.279882</td>\n",
              "      <td>Mariluz  III</td>\n",
              "      <td>nan</td>\n",
              "      <td>NaN</td>\n",
              "      <td>POINT (-77.27988 1.20102)</td>\n",
              "    </tr>\n",
              "  </tbody>\n",
              "</table>\n",
              "</div>"
            ],
            "text/plain": [
              "         id      fecha  ... genero                   geometry\n",
              "0   1684494 2019-06-15  ...    NaN  POINT (-77.28633 1.22038)\n",
              "13  1684554 2019-06-15  ...    NaN  POINT (-77.29106 1.21654)\n",
              "16  1684557 2019-06-15  ...    NaN  POINT (-77.27722 1.20778)\n",
              "20  1684566 2019-06-15  ...    NaN  POINT (-77.27690 1.19864)\n",
              "25  1684578 2019-06-15  ...    NaN  POINT (-77.27988 1.20102)\n",
              "\n",
              "[5 rows x 12 columns]"
            ]
          },
          "metadata": {
            "tags": []
          },
          "execution_count": 34
        }
      ]
    },
    {
      "cell_type": "code",
      "metadata": {
        "id": "JEQ3ZUpxB09B",
        "outputId": "3fa0786f-2ebf-42f8-ebcd-c41a38ae5790",
        "colab": {
          "base_uri": "https://localhost:8080/",
          "height": 490
        }
      },
      "source": [
        "fig, ax = plt.subplots(figsize=(12,10))\n",
        "taxi_gdf.plot(markersize=10, ax=ax);"
      ],
      "execution_count": null,
      "outputs": [
        {
          "output_type": "display_data",
          "data": {
            "image/png": "[encoded data removed]",
            "text/plain": [
              "<Figure size 864x720 with 1 Axes>"
            ]
          },
          "metadata": {
            "tags": [],
            "needs_background": "light"
          }
        }
      ]
    },
    {
      "cell_type": "code",
      "metadata": {
        "id": "FyRDnBPSEEEg",
        "outputId": "bd86623d-3d0a-4fe1-a89a-434233fa6491",
        "colab": {
          "base_uri": "https://localhost:8080/",
          "height": 204
        }
      },
      "source": [
        "coords = taxi_gdf[['latitud', 'longitud']]\n",
        "coords[:5]"
      ],
      "execution_count": null,
      "outputs": [
        {
          "output_type": "execute_result",
          "data": {
            "text/html": [
              "<div>\n",
              "<style scoped>\n",
              "    .dataframe tbody tr th:only-of-type {\n",
              "        vertical-align: middle;\n",
              "    }\n",
              "\n",
              "    .dataframe tbody tr th {\n",
              "        vertical-align: top;\n",
              "    }\n",
              "\n",
              "    .dataframe thead th {\n",
              "        text-align: right;\n",
              "    }\n",
              "</style>\n",
              "<table border=\"1\" class=\"dataframe\">\n",
              "  <thead>\n",
              "    <tr style=\"text-align: right;\">\n",
              "      <th></th>\n",
              "      <th>latitud</th>\n",
              "      <th>longitud</th>\n",
              "    </tr>\n",
              "  </thead>\n",
              "  <tbody>\n",
              "    <tr>\n",
              "      <th>0</th>\n",
              "      <td>1.220376</td>\n",
              "      <td>-77.286333</td>\n",
              "    </tr>\n",
              "    <tr>\n",
              "      <th>13</th>\n",
              "      <td>1.216537</td>\n",
              "      <td>-77.291056</td>\n",
              "    </tr>\n",
              "    <tr>\n",
              "      <th>16</th>\n",
              "      <td>1.207778</td>\n",
              "      <td>-77.277222</td>\n",
              "    </tr>\n",
              "    <tr>\n",
              "      <th>20</th>\n",
              "      <td>1.198642</td>\n",
              "      <td>-77.276898</td>\n",
              "    </tr>\n",
              "    <tr>\n",
              "      <th>25</th>\n",
              "      <td>1.201020</td>\n",
              "      <td>-77.279882</td>\n",
              "    </tr>\n",
              "  </tbody>\n",
              "</table>\n",
              "</div>"
            ],
            "text/plain": [
              "     latitud   longitud\n",
              "0   1.220376 -77.286333\n",
              "13  1.216537 -77.291056\n",
              "16  1.207778 -77.277222\n",
              "20  1.198642 -77.276898\n",
              "25  1.201020 -77.279882"
            ]
          },
          "metadata": {
            "tags": []
          },
          "execution_count": 24
        }
      ]
    },
    {
      "cell_type": "code",
      "metadata": {
        "id": "SUrcXh19ENUg"
      },
      "source": [
        "# Get labels of each cluster \n",
        "_, labels  = dbscan(taxi_gdf[['latitud', 'longitud']], eps=0.1, min_samples=10)"
      ],
      "execution_count": null,
      "outputs": []
    },
    {
      "cell_type": "code",
      "metadata": {
        "id": "FvBV1ByeESTO",
        "outputId": "bfb221bb-bcaf-45ba-f9df-bf6eddd66419",
        "colab": {
          "base_uri": "https://localhost:8080/",
          "height": 198
        }
      },
      "source": [
        "# Create a labels dataframe with the index of the dataset\n",
        "labels_df = pd.DataFrame(labels, index=taxi_gdf.index, columns=['cluster'])\n",
        "labels_df.head()"
      ],
      "execution_count": null,
      "outputs": [
        {
          "output_type": "error",
          "ename": "NameError",
          "evalue": "ignored",
          "traceback": [
            "\u001b[0;31m---------------------------------------------------------------------------\u001b[0m",
            "\u001b[0;31mNameError\u001b[0m                                 Traceback (most recent call last)",
            "\u001b[0;32m<ipython-input-3-45b3b09a251d>\u001b[0m in \u001b[0;36m<module>\u001b[0;34m()\u001b[0m\n\u001b[1;32m      1\u001b[0m \u001b[0;31m# Create a labels dataframe with the index of the dataset\u001b[0m\u001b[0;34m\u001b[0m\u001b[0;34m\u001b[0m\u001b[0;34m\u001b[0m\u001b[0m\n\u001b[0;32m----> 2\u001b[0;31m \u001b[0mlabels_df\u001b[0m \u001b[0;34m=\u001b[0m \u001b[0mpd\u001b[0m\u001b[0;34m.\u001b[0m\u001b[0mDataFrame\u001b[0m\u001b[0;34m(\u001b[0m\u001b[0mlabels\u001b[0m\u001b[0;34m,\u001b[0m \u001b[0mindex\u001b[0m\u001b[0;34m=\u001b[0m\u001b[0mtaxi_gdf\u001b[0m\u001b[0;34m.\u001b[0m\u001b[0mindex\u001b[0m\u001b[0;34m,\u001b[0m \u001b[0mcolumns\u001b[0m\u001b[0;34m=\u001b[0m\u001b[0;34m[\u001b[0m\u001b[0;34m'cluster'\u001b[0m\u001b[0;34m]\u001b[0m\u001b[0;34m)\u001b[0m\u001b[0;34m\u001b[0m\u001b[0;34m\u001b[0m\u001b[0m\n\u001b[0m\u001b[1;32m      3\u001b[0m \u001b[0mlabels_df\u001b[0m\u001b[0;34m.\u001b[0m\u001b[0mhead\u001b[0m\u001b[0;34m(\u001b[0m\u001b[0;34m)\u001b[0m\u001b[0;34m\u001b[0m\u001b[0;34m\u001b[0m\u001b[0m\n",
            "\u001b[0;31mNameError\u001b[0m: name 'labels' is not defined"
          ]
        }
      ]
    },
    {
      "cell_type": "code",
      "metadata": {
        "id": "ivrk5K5UEb-f"
      },
      "source": [
        "labels_df.groupby('cluster').size()"
      ],
      "execution_count": null,
      "outputs": []
    },
    {
      "cell_type": "code",
      "metadata": {
        "id": "Bp1PjHLIBwaj",
        "outputId": "42a12fca-6834-4017-8416-518165652def",
        "colab": {
          "base_uri": "https://localhost:8080/",
          "height": 281
        }
      },
      "source": [
        "feature = 'latitud'\n",
        "df.boxplot(column=feature)\n",
        "plt.ylabel(feature)\n",
        "plt.title(feature)\n",
        "plt.show()"
      ],
      "execution_count": null,
      "outputs": [
        {
          "output_type": "display_data",
          "data": {
            "image/png": "[encoded data removed]",
            "text/plain": [
              "<Figure size 432x288 with 1 Axes>"
            ]
          },
          "metadata": {
            "tags": [],
            "needs_background": "light"
          }
        }
      ]
    },
    {
      "cell_type": "code",
      "metadata": {
        "id": "qpPfX-d2u971",
        "outputId": "2fc841e8-b104-4d6c-a94e-e4f7c105c628",
        "colab": {
          "base_uri": "https://localhost:8080/",
          "height": 776
        }
      },
      "source": [
        "fig, ax = plt.subplots(1, 2)\n",
        "# Setting height and width of subplots\n",
        "fig.set_figheight(15)\n",
        "fig.set_figwidth(30)\n",
        "# Adding spacing between boxes\n",
        "fig.tight_layout(h_pad=True, w_pad=True)\n",
        "sns.boxplot(df[\"latitud\"], ax=ax[0])\n",
        "sns.boxplot(df['longitud'], ax=ax[1])\n",
        "plt.show()"
      ],
      "execution_count": null,
      "outputs": [
        {
          "output_type": "stream",
          "text": [
            "/usr/local/lib/python3.6/dist-packages/seaborn/_decorators.py:43: FutureWarning: Pass the following variable as a keyword arg: x. From version 0.12, the only valid positional argument will be `data`, and passing other arguments without an explicit keyword will result in an error or misinterpretation.\n",
            "  FutureWarning\n",
            "/usr/local/lib/python3.6/dist-packages/seaborn/_decorators.py:43: FutureWarning: Pass the following variable as a keyword arg: x. From version 0.12, the only valid positional argument will be `data`, and passing other arguments without an explicit keyword will result in an error or misinterpretation.\n",
            "  FutureWarning\n"
          ],
          "name": "stderr"
        },
        {
          "output_type": "display_data",
          "data": {
            "image/png": "[encoded data removed]",
            "text/plain": [
              "<Figure size 2160x1080 with 2 Axes>"
            ]
          },
          "metadata": {
            "tags": [],
            "needs_background": "light"
          }
        }
      ]
    },
    {
      "cell_type": "markdown",
      "metadata": {
        "id": "5ICisAU4zZBS"
      },
      "source": [
        "# **Categorical data analysis**"
      ]
    },
    {
      "cell_type": "code",
      "metadata": {
        "id": "Ay_5vbgHzYQ9",
        "outputId": "44bcd3c4-9a8e-4392-b13f-46027beaee75",
        "colab": {
          "base_uri": "https://localhost:8080/",
          "height": 85
        }
      },
      "source": [
        "df.select_dtypes(include=['category']).nunique()"
      ],
      "execution_count": 35,
      "outputs": [
        {
          "output_type": "execute_result",
          "data": {
            "text/plain": [
              "estado           5\n",
              "tipo_servicio    4\n",
              "genero           2\n",
              "dtype: int64"
            ]
          },
          "metadata": {
            "tags": []
          },
          "execution_count": 35
        }
      ]
    },
    {
      "cell_type": "code",
      "metadata": {
        "id": "-BJwSwgV2Buk",
        "outputId": "411dba6c-0a26-4461-cafc-e57ecfdf7002",
        "colab": {
          "base_uri": "https://localhost:8080/",
          "height": 357
        }
      },
      "source": [
        "columns = df.select_dtypes(include=[ 'category']).columns\n",
        "for col in columns:\n",
        "    print(\"Unique values of \" + col)\n",
        "    print(df[col].value_counts().reset_index().rename(columns={\"index\": col, col: \"Count\"}))\n",
        "    print(\"\")"
      ],
      "execution_count": 36,
      "outputs": [
        {
          "output_type": "stream",
          "text": [
            "Unique values of estado\n",
            "                       estado   Count\n",
            "0                  Confirmada  944040\n",
            "1  Confirmada fuera de tiempo  654552\n",
            "2                      Activa  433976\n",
            "3                    Generada  383428\n",
            "4                   Cancelada   18855\n",
            "\n",
            "Unique values of tipo_servicio\n",
            "  tipo_servicio    Count\n",
            "0            SC  2432762\n",
            "1           SEU     1714\n",
            "2           SEA      339\n",
            "3           SEI       36\n",
            "\n",
            "Unique values of genero\n",
            "  genero  Count\n",
            "0      M   3743\n",
            "1      F     97\n",
            "\n"
          ],
          "name": "stdout"
        }
      ]
    },
    {
      "cell_type": "code",
      "metadata": {
        "id": "Jz9svPiC0imO",
        "outputId": "db95571f-db0f-4d5f-e2d5-2c035c62ac2f",
        "colab": {
          "base_uri": "https://localhost:8080/",
          "height": 531
        }
      },
      "source": [
        "print('Estado')\n",
        "fig = sns.catplot(x='estado', kind=\"count\", data=df)\n",
        "fig.set_xticklabels(rotation=90)\n",
        "plt.show()  \n",
        "    "
      ],
      "execution_count": 37,
      "outputs": [
        {
          "output_type": "stream",
          "text": [
            "Estado\n"
          ],
          "name": "stdout"
        },
        {
          "output_type": "display_data",
          "data": {
            "image/png": "[encoded data removed]",
            "text/plain": [
              "<Figure size 360x360 with 1 Axes>"
            ]
          },
          "metadata": {
            "tags": [],
            "needs_background": "light"
          }
        }
      ]
    },
    {
      "cell_type": "code",
      "metadata": {
        "id": "aopbJhQF7XaT",
        "outputId": "ece8b205-c8e6-409f-f013-839c63a2fb38",
        "colab": {
          "base_uri": "https://localhost:8080/",
          "height": 548
        }
      },
      "source": [
        "print(\"Distribution of estado data\")\n",
        "figure = plt.figure(figsize=(20, 10))\n",
        "fig = sns.catplot(x='estado', y='id', kind='violin', data=df, height=5, aspect=2)\n",
        "fig.set_xticklabels(rotation=90)\n",
        "plt.show()"
      ],
      "execution_count": 40,
      "outputs": [
        {
          "output_type": "stream",
          "text": [
            "Distribution of estado data\n"
          ],
          "name": "stdout"
        },
        {
          "output_type": "display_data",
          "data": {
            "text/plain": [
              "<Figure size 1440x720 with 0 Axes>"
            ]
          },
          "metadata": {
            "tags": []
          }
        },
        {
          "output_type": "display_data",
          "data": {
            "image/png": "[encoded data removed]",
            "text/plain": [
              "<Figure size 720x360 with 1 Axes>"
            ]
          },
          "metadata": {
            "tags": [],
            "needs_background": "light"
          }
        }
      ]
    },
    {
      "cell_type": "code",
      "metadata": {
        "id": "WHpCD_NV4bI5",
        "outputId": "458a046d-a63d-406a-b4b6-355a57eb70d9",
        "colab": {
          "base_uri": "https://localhost:8080/",
          "height": 411
        }
      },
      "source": [
        "print('tipo_servicio')\n",
        "fig = sns.catplot(x='tipo_servicio', kind=\"count\", data=df)\n",
        "fig.set_xticklabels(rotation=90)\n",
        "plt.show()"
      ],
      "execution_count": null,
      "outputs": [
        {
          "output_type": "stream",
          "text": [
            "tipo_servicio\n"
          ],
          "name": "stdout"
        },
        {
          "output_type": "display_data",
          "data": {
            "image/png": "[encoded data removed]",
            "text/plain": [
              "<Figure size 360x360 with 1 Axes>"
            ]
          },
          "metadata": {
            "tags": [],
            "needs_background": "light"
          }
        }
      ]
    },
    {
      "cell_type": "code",
      "metadata": {
        "id": "xtzUoZzi8l95",
        "outputId": "04e3f4c6-cf2b-45eb-b7d1-8391a878d238",
        "colab": {
          "base_uri": "https://localhost:8080/",
          "height": 428
        }
      },
      "source": [
        "print(\"Distribution of tipo_servicio data\")\n",
        "figure = plt.figure(figsize=(20, 10))\n",
        "fig = sns.catplot(x='tipo_servicio', y='id', kind='violin', data=df, height=5, aspect=2)\n",
        "fig.set_xticklabels(rotation=90)\n",
        "plt.show()"
      ],
      "execution_count": null,
      "outputs": [
        {
          "output_type": "stream",
          "text": [
            "Distribution of tipo_servicio data\n"
          ],
          "name": "stdout"
        },
        {
          "output_type": "display_data",
          "data": {
            "text/plain": [
              "<Figure size 1440x720 with 0 Axes>"
            ]
          },
          "metadata": {
            "tags": []
          }
        },
        {
          "output_type": "display_data",
          "data": {
            "image/png": "[encoded data removed]",
            "text/plain": [
              "<Figure size 720x360 with 1 Axes>"
            ]
          },
          "metadata": {
            "tags": [],
            "needs_background": "light"
          }
        }
      ]
    },
    {
      "cell_type": "code",
      "metadata": {
        "id": "DpmyiMfp49VP",
        "outputId": "cd450426-80a5-482d-efb1-21637c7c7c7b",
        "colab": {
          "base_uri": "https://localhost:8080/",
          "height": 399
        }
      },
      "source": [
        "print('genero')\n",
        "fig = sns.catplot(x='genero', kind=\"count\", data=df)\n",
        "fig.set_xticklabels(rotation=90)\n",
        "plt.show()"
      ],
      "execution_count": null,
      "outputs": [
        {
          "output_type": "stream",
          "text": [
            "genero\n"
          ],
          "name": "stdout"
        },
        {
          "output_type": "display_data",
          "data": {
            "image/png": "[encoded data removed]",
            "text/plain": [
              "<Figure size 360x360 with 1 Axes>"
            ]
          },
          "metadata": {
            "tags": [],
            "needs_background": "light"
          }
        }
      ]
    },
    {
      "cell_type": "code",
      "metadata": {
        "id": "F7K7Wx2K8uJX",
        "outputId": "20e1646f-1d8a-4d4d-e134-d2ec5a482a5d",
        "colab": {
          "base_uri": "https://localhost:8080/",
          "height": 416
        }
      },
      "source": [
        "print(\"Distribution of genero data\")\n",
        "figure = plt.figure(figsize=(20, 10))\n",
        "fig = sns.catplot(x='genero', y='id', kind='violin', data=df, height=5, aspect=2)\n",
        "fig.set_xticklabels(rotation=90)\n",
        "plt.show()"
      ],
      "execution_count": null,
      "outputs": [
        {
          "output_type": "stream",
          "text": [
            "Distribution of genero data\n"
          ],
          "name": "stdout"
        },
        {
          "output_type": "display_data",
          "data": {
            "text/plain": [
              "<Figure size 1440x720 with 0 Axes>"
            ]
          },
          "metadata": {
            "tags": []
          }
        },
        {
          "output_type": "display_data",
          "data": {
            "image/png": "[encoded data removed]",
            "text/plain": [
              "<Figure size 720x360 with 1 Axes>"
            ]
          },
          "metadata": {
            "tags": [],
            "needs_background": "light"
          }
        }
      ]
    },
    {
      "cell_type": "code",
      "metadata": {
        "id": "PL9J_NCgMv0W",
        "outputId": "baef0f26-7e66-4db8-ae3a-72161a723a1f",
        "colab": {
          "base_uri": "https://localhost:8080/",
          "height": 323
        }
      },
      "source": [
        "df_geo = df[df['latitud'].notnull() & df['latitud'].notnull()]\n",
        "\n",
        "df_geo.info()"
      ],
      "execution_count": null,
      "outputs": [
        {
          "output_type": "stream",
          "text": [
            "<class 'pandas.core.frame.DataFrame'>\n",
            "Int64Index: 539886 entries, 0 to 2436891\n",
            "Data columns (total 11 columns):\n",
            " #   Column         Non-Null Count   Dtype         \n",
            "---  ------         --------------   -----         \n",
            " 0   id             539886 non-null  int64         \n",
            " 1   fecha          539886 non-null  datetime64[ns]\n",
            " 2   estado         539886 non-null  category      \n",
            " 3   tipo_servicio  539886 non-null  category      \n",
            " 4   directorio     539886 non-null  object        \n",
            " 5   direccion      539886 non-null  object        \n",
            " 6   latitud        539886 non-null  float64       \n",
            " 7   longitud       539886 non-null  float64       \n",
            " 8   barrio         539886 non-null  object        \n",
            " 9   nombres        539886 non-null  object        \n",
            " 10  genero         2741 non-null    category      \n",
            "dtypes: category(3), datetime64[ns](1), float64(2), int64(1), object(4)\n",
            "memory usage: 38.6+ MB\n"
          ],
          "name": "stdout"
        }
      ]
    },
    {
      "cell_type": "code",
      "metadata": {
        "id": "RsNl-7yRlAqf"
      },
      "source": [
        "pasto_latitude, pasto_longitude = 1.21361,-77.28111\n",
        "\n",
        "# define the world map centered around pasto COlombia with a higher zoom level width=550,height=550,\n",
        "pasto_map = folium.Map(location=[pasto_latitude, pasto_longitude], zoom_start=8)\n",
        "icon_taxi = plugins.BeautifyIcon(\n",
        "    icon='taxi',\n",
        "    border_color='#b3334f',\n",
        "    text_color='#b3334f',icon_shape= 'marker')\n",
        "\n",
        "def plotMarket(point):\n",
        "  folium.Marker(\n",
        "      location=[point.latitud, point.longitud],\n",
        "      popup=point.direccion,\n",
        "      icon=icon_taxi\n",
        "  ).add_to(pasto_map)\n",
        "\n",
        "df_geo.apply(plotMarket, axis = 1)\n",
        "# display world map\n",
        "pasto_map"
      ],
      "execution_count": null,
      "outputs": []
    },
    {
      "cell_type": "code",
      "metadata": {
        "id": "ryhKY9r5aJ2g",
        "outputId": "523f2a8e-a668-476f-de0a-4e8f36c45acf",
        "colab": {
          "base_uri": "https://localhost:8080/",
          "height": 1000
        }
      },
      "source": [
        "df_geo.head(20)"
      ],
      "execution_count": null,
      "outputs": [
        {
          "output_type": "execute_result",
          "data": {
            "text/html": [
              "<div>\n",
              "<style scoped>\n",
              "    .dataframe tbody tr th:only-of-type {\n",
              "        vertical-align: middle;\n",
              "    }\n",
              "\n",
              "    .dataframe tbody tr th {\n",
              "        vertical-align: top;\n",
              "    }\n",
              "\n",
              "    .dataframe thead th {\n",
              "        text-align: right;\n",
              "    }\n",
              "</style>\n",
              "<table border=\"1\" class=\"dataframe\">\n",
              "  <thead>\n",
              "    <tr style=\"text-align: right;\">\n",
              "      <th></th>\n",
              "      <th>id</th>\n",
              "      <th>fecha</th>\n",
              "      <th>estado</th>\n",
              "      <th>tipo_servicio</th>\n",
              "      <th>directorio</th>\n",
              "      <th>direccion</th>\n",
              "      <th>latitud</th>\n",
              "      <th>longitud</th>\n",
              "      <th>barrio</th>\n",
              "      <th>nombres</th>\n",
              "      <th>genero</th>\n",
              "    </tr>\n",
              "  </thead>\n",
              "  <tbody>\n",
              "    <tr>\n",
              "      <th>0</th>\n",
              "      <td>1684494</td>\n",
              "      <td>2019-06-15</td>\n",
              "      <td>Confirmada fuera de tiempo</td>\n",
              "      <td>SC</td>\n",
              "      <td>1342</td>\n",
              "      <td>Calle 16 # 37 - 47 Las Margaritas</td>\n",
              "      <td>1.220376</td>\n",
              "      <td>-77.286333</td>\n",
              "      <td>Las Margaritas</td>\n",
              "      <td>nan</td>\n",
              "      <td>NaN</td>\n",
              "    </tr>\n",
              "    <tr>\n",
              "      <th>13</th>\n",
              "      <td>1684554</td>\n",
              "      <td>2019-06-15</td>\n",
              "      <td>Confirmada fuera de tiempo</td>\n",
              "      <td>SC</td>\n",
              "      <td>7367325</td>\n",
              "      <td>Carrera 35 # 16 B - ED. ARADAS</td>\n",
              "      <td>1.216537</td>\n",
              "      <td>-77.291056</td>\n",
              "      <td>Parana</td>\n",
              "      <td>nan</td>\n",
              "      <td>NaN</td>\n",
              "    </tr>\n",
              "    <tr>\n",
              "      <th>16</th>\n",
              "      <td>1684557</td>\n",
              "      <td>2019-06-15</td>\n",
              "      <td>Confirmada fuera de tiempo</td>\n",
              "      <td>SC</td>\n",
              "      <td>3174131309</td>\n",
              "      <td>Manzana i cs 12b La Lomita</td>\n",
              "      <td>1.207778</td>\n",
              "      <td>-77.277222</td>\n",
              "      <td>La Lomita</td>\n",
              "      <td>nan</td>\n",
              "      <td>NaN</td>\n",
              "    </tr>\n",
              "    <tr>\n",
              "      <th>20</th>\n",
              "      <td>1684566</td>\n",
              "      <td>2019-06-15</td>\n",
              "      <td>Confirmada fuera de tiempo</td>\n",
              "      <td>SC</td>\n",
              "      <td>39</td>\n",
              "      <td>Carrera 39 # 19 - 29 MURANO 39</td>\n",
              "      <td>1.198642</td>\n",
              "      <td>-77.276898</td>\n",
              "      <td>Palermo</td>\n",
              "      <td>nan</td>\n",
              "      <td>NaN</td>\n",
              "    </tr>\n",
              "    <tr>\n",
              "      <th>25</th>\n",
              "      <td>1684578</td>\n",
              "      <td>2019-06-15</td>\n",
              "      <td>Confirmada fuera de tiempo</td>\n",
              "      <td>SC</td>\n",
              "      <td>388</td>\n",
              "      <td>Calle 9 # 40 - 04 ED ATURES</td>\n",
              "      <td>1.201020</td>\n",
              "      <td>-77.279882</td>\n",
              "      <td>Mariluz  III</td>\n",
              "      <td>nan</td>\n",
              "      <td>NaN</td>\n",
              "    </tr>\n",
              "    <tr>\n",
              "      <th>28</th>\n",
              "      <td>1684581</td>\n",
              "      <td>2019-06-15</td>\n",
              "      <td>Confirmada fuera de tiempo</td>\n",
              "      <td>SC</td>\n",
              "      <td>7316085</td>\n",
              "      <td>KR 43  16C 25 REFUGIO VALLE DE ATRIZ ♠♦</td>\n",
              "      <td>1.224355</td>\n",
              "      <td>-77.290301</td>\n",
              "      <td>nan</td>\n",
              "      <td>nan</td>\n",
              "      <td>NaN</td>\n",
              "    </tr>\n",
              "    <tr>\n",
              "      <th>47</th>\n",
              "      <td>1684684</td>\n",
              "      <td>2019-06-15</td>\n",
              "      <td>Confirmada fuera de tiempo</td>\n",
              "      <td>SC</td>\n",
              "      <td>1320</td>\n",
              "      <td>Carrera 40 A # 20 - 120 RINCON VALLE DE ATRIZ</td>\n",
              "      <td>1.218298</td>\n",
              "      <td>-77.294162</td>\n",
              "      <td>Valle De Atriz</td>\n",
              "      <td>nan</td>\n",
              "      <td>NaN</td>\n",
              "    </tr>\n",
              "    <tr>\n",
              "      <th>54</th>\n",
              "      <td>1684723</td>\n",
              "      <td>2019-06-15</td>\n",
              "      <td>Confirmada</td>\n",
              "      <td>SC</td>\n",
              "      <td>1310</td>\n",
              "      <td>Carrera 35 16 B 75 ALTOS DE PARANA</td>\n",
              "      <td>1.216674</td>\n",
              "      <td>-77.290930</td>\n",
              "      <td>Parana</td>\n",
              "      <td>nan</td>\n",
              "      <td>NaN</td>\n",
              "    </tr>\n",
              "    <tr>\n",
              "      <th>72</th>\n",
              "      <td>1684794</td>\n",
              "      <td>2019-06-15</td>\n",
              "      <td>Confirmada fuera de tiempo</td>\n",
              "      <td>SC</td>\n",
              "      <td>1309</td>\n",
              "      <td>Carrera 34 # 16 - 68 ED SALERNO</td>\n",
              "      <td>1.220701</td>\n",
              "      <td>-77.285347</td>\n",
              "      <td>Parana</td>\n",
              "      <td>nan</td>\n",
              "      <td>NaN</td>\n",
              "    </tr>\n",
              "    <tr>\n",
              "      <th>81</th>\n",
              "      <td>1684822</td>\n",
              "      <td>2019-06-15</td>\n",
              "      <td>Confirmada fuera de tiempo</td>\n",
              "      <td>SC</td>\n",
              "      <td>7228922</td>\n",
              "      <td>Calle 18 B # 42 - 45 JARDÍN DE ATRIZ</td>\n",
              "      <td>1.227194</td>\n",
              "      <td>-77.287422</td>\n",
              "      <td>Valle De Atriz</td>\n",
              "      <td>nan</td>\n",
              "      <td>NaN</td>\n",
              "    </tr>\n",
              "    <tr>\n",
              "      <th>86</th>\n",
              "      <td>1684851</td>\n",
              "      <td>2019-06-15</td>\n",
              "      <td>Confirmada</td>\n",
              "      <td>SC</td>\n",
              "      <td>3102221822</td>\n",
              "      <td>Bloque 8 B - 302 Pucalpa III</td>\n",
              "      <td>1.189323</td>\n",
              "      <td>-77.277923</td>\n",
              "      <td>Pucalpa III</td>\n",
              "      <td>nan</td>\n",
              "      <td>NaN</td>\n",
              "    </tr>\n",
              "    <tr>\n",
              "      <th>91</th>\n",
              "      <td>1684863</td>\n",
              "      <td>2019-06-15</td>\n",
              "      <td>Confirmada fuera de tiempo</td>\n",
              "      <td>SC</td>\n",
              "      <td>7228922</td>\n",
              "      <td>Calle 18 B # 42 - 45 JARDÍN DE ATRIZ</td>\n",
              "      <td>1.227194</td>\n",
              "      <td>-77.287422</td>\n",
              "      <td>Valle De Atriz</td>\n",
              "      <td>nan</td>\n",
              "      <td>NaN</td>\n",
              "    </tr>\n",
              "    <tr>\n",
              "      <th>96</th>\n",
              "      <td>1684879</td>\n",
              "      <td>2019-06-15</td>\n",
              "      <td>Confirmada fuera de tiempo</td>\n",
              "      <td>SC</td>\n",
              "      <td>7228922</td>\n",
              "      <td>Calle 18 B # 42 - 45 JARDÍN DE ATRIZ</td>\n",
              "      <td>1.227194</td>\n",
              "      <td>-77.287422</td>\n",
              "      <td>Valle De Atriz</td>\n",
              "      <td>nan</td>\n",
              "      <td>NaN</td>\n",
              "    </tr>\n",
              "    <tr>\n",
              "      <th>101</th>\n",
              "      <td>1684897</td>\n",
              "      <td>2019-06-15</td>\n",
              "      <td>Confirmada</td>\n",
              "      <td>SC</td>\n",
              "      <td>7316085</td>\n",
              "      <td>KR 43  16C 25 REFUGIO VALLE DE ATRIZ ♠♦</td>\n",
              "      <td>1.224355</td>\n",
              "      <td>-77.290301</td>\n",
              "      <td>nan</td>\n",
              "      <td>nan</td>\n",
              "      <td>NaN</td>\n",
              "    </tr>\n",
              "    <tr>\n",
              "      <th>104</th>\n",
              "      <td>1684905</td>\n",
              "      <td>2019-06-15</td>\n",
              "      <td>Confirmada fuera de tiempo</td>\n",
              "      <td>SC</td>\n",
              "      <td>1320</td>\n",
              "      <td>Carrera 40 A # 20 - 120 RINCON VALLE DE ATRIZ</td>\n",
              "      <td>1.218298</td>\n",
              "      <td>-77.294162</td>\n",
              "      <td>Valle De Atriz</td>\n",
              "      <td>nan</td>\n",
              "      <td>NaN</td>\n",
              "    </tr>\n",
              "    <tr>\n",
              "      <th>116</th>\n",
              "      <td>1684938</td>\n",
              "      <td>2019-06-15</td>\n",
              "      <td>Confirmada fuera de tiempo</td>\n",
              "      <td>SC</td>\n",
              "      <td>39</td>\n",
              "      <td>Carrera 39 # 19 - 29 MURANO 39</td>\n",
              "      <td>1.198642</td>\n",
              "      <td>-77.276898</td>\n",
              "      <td>Palermo</td>\n",
              "      <td>nan</td>\n",
              "      <td>NaN</td>\n",
              "    </tr>\n",
              "    <tr>\n",
              "      <th>118</th>\n",
              "      <td>1684944</td>\n",
              "      <td>2019-06-15</td>\n",
              "      <td>Confirmada</td>\n",
              "      <td>SC</td>\n",
              "      <td>1309</td>\n",
              "      <td>Carrera 34 # 16 - 68 ED SALERNO</td>\n",
              "      <td>1.220701</td>\n",
              "      <td>-77.285347</td>\n",
              "      <td>Parana</td>\n",
              "      <td>nan</td>\n",
              "      <td>NaN</td>\n",
              "    </tr>\n",
              "    <tr>\n",
              "      <th>119</th>\n",
              "      <td>1684945</td>\n",
              "      <td>2019-06-15</td>\n",
              "      <td>Generada</td>\n",
              "      <td>SC</td>\n",
              "      <td>3172683021</td>\n",
              "      <td>Manzana 6 cs 06 Tamasagra  I</td>\n",
              "      <td>19.425229</td>\n",
              "      <td>-70.716519</td>\n",
              "      <td>Tamasagra  I</td>\n",
              "      <td>nan</td>\n",
              "      <td>NaN</td>\n",
              "    </tr>\n",
              "    <tr>\n",
              "      <th>120</th>\n",
              "      <td>1684947</td>\n",
              "      <td>2019-06-15</td>\n",
              "      <td>Confirmada fuera de tiempo</td>\n",
              "      <td>SC</td>\n",
              "      <td>7228922</td>\n",
              "      <td>Calle 18 B # 42 - 45 JARDÍN DE ATRIZ</td>\n",
              "      <td>1.227194</td>\n",
              "      <td>-77.287422</td>\n",
              "      <td>Valle De Atriz</td>\n",
              "      <td>nan</td>\n",
              "      <td>NaN</td>\n",
              "    </tr>\n",
              "    <tr>\n",
              "      <th>121</th>\n",
              "      <td>1684949</td>\n",
              "      <td>2019-06-15</td>\n",
              "      <td>Confirmada fuera de tiempo</td>\n",
              "      <td>SC</td>\n",
              "      <td>7367806</td>\n",
              "      <td>Calle 16 C # 42 - 32 CAMINO REAL RESERVADO</td>\n",
              "      <td>1.222920</td>\n",
              "      <td>-77.289728</td>\n",
              "      <td>La Colina</td>\n",
              "      <td>nan</td>\n",
              "      <td>NaN</td>\n",
              "    </tr>\n",
              "  </tbody>\n",
              "</table>\n",
              "</div>"
            ],
            "text/plain": [
              "          id      fecha  ... nombres genero\n",
              "0    1684494 2019-06-15  ...     nan    NaN\n",
              "13   1684554 2019-06-15  ...     nan    NaN\n",
              "16   1684557 2019-06-15  ...     nan    NaN\n",
              "20   1684566 2019-06-15  ...     nan    NaN\n",
              "25   1684578 2019-06-15  ...     nan    NaN\n",
              "28   1684581 2019-06-15  ...     nan    NaN\n",
              "47   1684684 2019-06-15  ...     nan    NaN\n",
              "54   1684723 2019-06-15  ...     nan    NaN\n",
              "72   1684794 2019-06-15  ...     nan    NaN\n",
              "81   1684822 2019-06-15  ...     nan    NaN\n",
              "86   1684851 2019-06-15  ...     nan    NaN\n",
              "91   1684863 2019-06-15  ...     nan    NaN\n",
              "96   1684879 2019-06-15  ...     nan    NaN\n",
              "101  1684897 2019-06-15  ...     nan    NaN\n",
              "104  1684905 2019-06-15  ...     nan    NaN\n",
              "116  1684938 2019-06-15  ...     nan    NaN\n",
              "118  1684944 2019-06-15  ...     nan    NaN\n",
              "119  1684945 2019-06-15  ...     nan    NaN\n",
              "120  1684947 2019-06-15  ...     nan    NaN\n",
              "121  1684949 2019-06-15  ...     nan    NaN\n",
              "\n",
              "[20 rows x 11 columns]"
            ]
          },
          "metadata": {
            "tags": []
          },
          "execution_count": 13
        }
      ]
    },
    {
      "cell_type": "code",
      "metadata": {
        "id": "jEgoSURWZ4CH",
        "outputId": "ec538199-8f78-42d2-d15b-99e45fc6030f",
        "colab": {
          "base_uri": "https://localhost:8080/",
          "height": 34
        }
      },
      "source": [
        "geolocator = Nominatim(user_agent=\"taxissasprj\")\n",
        "location = geolocator.geocode(\"Calle 18 B # 42 - 45 JARDÍN DE ATRIZ\")\n",
        "print(location)"
      ],
      "execution_count": null,
      "outputs": [
        {
          "output_type": "stream",
          "text": [
            "None\n"
          ],
          "name": "stdout"
        }
      ]
    },
    {
      "cell_type": "code",
      "metadata": {
        "id": "U5d1vi409S8H",
        "outputId": "a10ce30f-0abb-402b-d739-31a2f42ca00b",
        "colab": {
          "base_uri": "https://localhost:8080/",
          "height": 378
        }
      },
      "source": [
        "result = geocode(\"KR 43 16C 25, Pasto, Nariño\", provider=\"nominatim\")\n",
        "result"
      ],
      "execution_count": 15,
      "outputs": [
        {
          "output_type": "stream",
          "text": [
            "/usr/local/lib/python3.6/dist-packages/geopy/geocoders/osm.py:143: UserWarning: Using Nominatim with the default \"geopy/1.17.0\" `user_agent` is strongly discouraged, as it violates Nominatim's ToS https://operations.osmfoundation.org/policies/nominatim/ and may possibly cause 403 and 429 HTTP errors. Please specify a custom `user_agent` with `Nominatim(user_agent=\"my-application\")` or by overriding the default `user_agent`: `geopy.geocoders.options.default_user_agent = \"my-application\"`. In geopy 2.0 this will become an exception.\n",
            "  UserWarning\n"
          ],
          "name": "stderr"
        },
        {
          "output_type": "error",
          "ename": "TypeError",
          "evalue": "ignored",
          "traceback": [
            "\u001b[0;31m---------------------------------------------------------------------------\u001b[0m",
            "\u001b[0;31mTypeError\u001b[0m                                 Traceback (most recent call last)",
            "\u001b[0;32m<ipython-input-15-a991239dde4a>\u001b[0m in \u001b[0;36m<module>\u001b[0;34m()\u001b[0m\n\u001b[0;32m----> 1\u001b[0;31m \u001b[0mresult\u001b[0m \u001b[0;34m=\u001b[0m \u001b[0mgeocode\u001b[0m\u001b[0;34m(\u001b[0m\u001b[0;34m\"KR 43 16C 25, Pasto, Nariño\"\u001b[0m\u001b[0;34m,\u001b[0m \u001b[0mprovider\u001b[0m\u001b[0;34m=\u001b[0m\u001b[0;34m\"nominatim\"\u001b[0m\u001b[0;34m)\u001b[0m\u001b[0;34m\u001b[0m\u001b[0;34m\u001b[0m\u001b[0m\n\u001b[0m\u001b[1;32m      2\u001b[0m \u001b[0mresult\u001b[0m\u001b[0;34m\u001b[0m\u001b[0;34m\u001b[0m\u001b[0m\n",
            "\u001b[0;32m/usr/local/lib/python3.6/dist-packages/geopandas/tools/geocoding.py\u001b[0m in \u001b[0;36mgeocode\u001b[0;34m(strings, provider, **kwargs)\u001b[0m\n\u001b[1;32m     71\u001b[0m         \u001b[0mthrottle_time\u001b[0m \u001b[0;34m=\u001b[0m \u001b[0m_get_throttle_time\u001b[0m\u001b[0;34m(\u001b[0m\u001b[0mprovider\u001b[0m\u001b[0;34m)\u001b[0m\u001b[0;34m\u001b[0m\u001b[0;34m\u001b[0m\u001b[0m\n\u001b[1;32m     72\u001b[0m \u001b[0;34m\u001b[0m\u001b[0m\n\u001b[0;32m---> 73\u001b[0;31m     \u001b[0;32mreturn\u001b[0m \u001b[0m_query\u001b[0m\u001b[0;34m(\u001b[0m\u001b[0mstrings\u001b[0m\u001b[0;34m,\u001b[0m \u001b[0;32mTrue\u001b[0m\u001b[0;34m,\u001b[0m \u001b[0mprovider\u001b[0m\u001b[0;34m,\u001b[0m \u001b[0mthrottle_time\u001b[0m\u001b[0;34m,\u001b[0m \u001b[0;34m**\u001b[0m\u001b[0mkwargs\u001b[0m\u001b[0;34m)\u001b[0m\u001b[0;34m\u001b[0m\u001b[0;34m\u001b[0m\u001b[0m\n\u001b[0m\u001b[1;32m     74\u001b[0m \u001b[0;34m\u001b[0m\u001b[0m\n\u001b[1;32m     75\u001b[0m \u001b[0;34m\u001b[0m\u001b[0m\n",
            "\u001b[0;32m/usr/local/lib/python3.6/dist-packages/geopandas/tools/geocoding.py\u001b[0m in \u001b[0;36m_query\u001b[0;34m(data, forward, provider, throttle_time, **kwargs)\u001b[0m\n\u001b[1;32m    153\u001b[0m         \u001b[0mtime\u001b[0m\u001b[0;34m.\u001b[0m\u001b[0msleep\u001b[0m\u001b[0;34m(\u001b[0m\u001b[0mthrottle_time\u001b[0m\u001b[0;34m)\u001b[0m\u001b[0;34m\u001b[0m\u001b[0;34m\u001b[0m\u001b[0m\n\u001b[1;32m    154\u001b[0m \u001b[0;34m\u001b[0m\u001b[0m\n\u001b[0;32m--> 155\u001b[0;31m     \u001b[0mdf\u001b[0m \u001b[0;34m=\u001b[0m \u001b[0m_prepare_geocode_result\u001b[0m\u001b[0;34m(\u001b[0m\u001b[0mresults\u001b[0m\u001b[0;34m)\u001b[0m\u001b[0;34m\u001b[0m\u001b[0;34m\u001b[0m\u001b[0m\n\u001b[0m\u001b[1;32m    156\u001b[0m     \u001b[0;32mreturn\u001b[0m \u001b[0mdf\u001b[0m\u001b[0;34m\u001b[0m\u001b[0;34m\u001b[0m\u001b[0m\n\u001b[1;32m    157\u001b[0m \u001b[0;34m\u001b[0m\u001b[0m\n",
            "\u001b[0;32m/usr/local/lib/python3.6/dist-packages/geopandas/tools/geocoding.py\u001b[0m in \u001b[0;36m_prepare_geocode_result\u001b[0;34m(results)\u001b[0m\n\u001b[1;32m    170\u001b[0m \u001b[0;34m\u001b[0m\u001b[0m\n\u001b[1;32m    171\u001b[0m     \u001b[0;32mfor\u001b[0m \u001b[0mi\u001b[0m\u001b[0;34m,\u001b[0m \u001b[0ms\u001b[0m \u001b[0;32min\u001b[0m \u001b[0mresults\u001b[0m\u001b[0;34m.\u001b[0m\u001b[0mitems\u001b[0m\u001b[0;34m(\u001b[0m\u001b[0;34m)\u001b[0m\u001b[0;34m:\u001b[0m\u001b[0;34m\u001b[0m\u001b[0;34m\u001b[0m\u001b[0m\n\u001b[0;32m--> 172\u001b[0;31m         \u001b[0maddress\u001b[0m\u001b[0;34m,\u001b[0m \u001b[0mloc\u001b[0m \u001b[0;34m=\u001b[0m \u001b[0ms\u001b[0m\u001b[0;34m\u001b[0m\u001b[0;34m\u001b[0m\u001b[0m\n\u001b[0m\u001b[1;32m    173\u001b[0m \u001b[0;34m\u001b[0m\u001b[0m\n\u001b[1;32m    174\u001b[0m         \u001b[0;31m# loc is lat, lon and we want lon, lat\u001b[0m\u001b[0;34m\u001b[0m\u001b[0;34m\u001b[0m\u001b[0;34m\u001b[0m\u001b[0m\n",
            "\u001b[0;31mTypeError\u001b[0m: 'NoneType' object is not iterable"
          ]
        }
      ]
    }
  ]
}